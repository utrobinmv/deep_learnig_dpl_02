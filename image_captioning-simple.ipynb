{
 "cells": [
  {
   "cell_type": "markdown",
   "metadata": {
    "id": "qpLplwgOtmOY"
   },
   "source": [
    "<h1 align=\"center\"> Image Captioning </h1>\n",
    "\n",
    "Итак, мы сейчас займемся image captioning =)\n",
    "![img](https://i.imgur.com/obITaMl.png)"
   ]
  },
  {
   "cell_type": "markdown",
   "metadata": {
    "id": "8Ya3uvGqtmOa"
   },
   "source": [
    "## Описание\n",
    "\n",
    "Image captioning -- это когда мы подаем модели каритнку, а она возвращает нам текст с описанием того, что на ней изображено. \n",
    "\n",
    "Как мы знаем из нашего замечательного курса, с картинками лучше всегоработают модели CNN, а с текстом -- RNN. Поэтому логично, что для image captioning нужно совместить и то, и другое =)\n",
    "\n",
    "Для удобства (и, в какой-то степени, экономии времени), мы будем строить не одну большую модель CNN+RNN, которая будет кушать картинку и выдавать текст, а разобьем ее на две. Первая модель будет кушать картинку и выдавать вектор картинки, а вторая модель будет кушать этот вектор и генерировать текст. Вектор, по сути, будет числовым \"описанием\" картинки, в котором будет содержаться вся необходимая информация для второй сети, чтобы та смогла нагенерить текста с описанием. Короче, как в автоэнкодерах)"
   ]
  },
  {
   "cell_type": "markdown",
   "metadata": {
    "id": "EqbinmhstmOb"
   },
   "source": [
    "## План\n",
    "\n",
    "Итак, как мы будем действовать:\n",
    "\n",
    "Датасет: MSCOCO: [описание](http://cocodataset.org/#download), [ссылка для скачивания](https://yadi.sk/d/iK9ZtggjJcGKIA)"
   ]
  },
  {
   "cell_type": "markdown",
   "metadata": {
    "id": "hd7DizkTtmOg"
   },
   "source": [
    "### Базовая часть:\n",
    "1. Скачаем датасет (векторы картинок и соответствующие описания) и предобработаем описания так, как мы любим. Ну, токенизация там (да, в 100500-ый раз, только теперь сами)\n",
    "2. В качестве первой сети возьмем Inception-v3 и скачаем к ней предобученные веса (тренировать и генерировать веса -- это оч долго, поверьте мне). \n",
    "3. Напишем вторую сетку, которая будет брать векторы из Inception-v3 и генерить описания.\n",
    "4. Обучим вторую сеть на MSCOCO\n",
    "\n",
    "### Вариативная часть:\n",
    "Что еще можно сделать:\n",
    "1. Нагуглить другой датасет (в MSCOCO видны паттерны -- все тексты выглядят как \"хто-то с чем-то что-то делает\")\n",
    "2. Взять не Inseption-v3, а другую предобученную сеть\n",
    "3. Запилить аттеншен во второй сети (не, ну а вдруг)\n",
    "4. Написать бота ))0))\n",
    "5. Whatever comes to your head"
   ]
  },
  {
   "cell_type": "markdown",
   "metadata": {
    "id": "Utxq9wvgtmOi"
   },
   "source": [
    "## Базовая часть:"
   ]
  },
  {
   "cell_type": "markdown",
   "metadata": {
    "id": "0Ta8RFKejLRl"
   },
   "source": [
    "### 1. Предобработка текстов из датасета"
   ]
  },
  {
   "cell_type": "code",
   "execution_count": 1,
   "metadata": {},
   "outputs": [],
   "source": [
    "#!pip install torchtext\n",
    "#!pip install matplotlib\n",
    "#!pip install sklearn"
   ]
  },
  {
   "cell_type": "code",
   "execution_count": 2,
   "metadata": {},
   "outputs": [],
   "source": [
    "import torch\n",
    "import torchtext\n",
    "from torchtext import vocab\n",
    "from tqdm import tqdm\n",
    "import os\n",
    "import pickle"
   ]
  },
  {
   "cell_type": "code",
   "execution_count": 3,
   "metadata": {},
   "outputs": [],
   "source": [
    "import matplotlib.pyplot as plt\n",
    "import math\n",
    "from torch.utils.data import Dataset\n",
    "from torch.utils.data import DataLoader\n",
    "#from torch.utils.data import random_split\n",
    "from sklearn import model_selection"
   ]
  },
  {
   "cell_type": "code",
   "execution_count": 4,
   "metadata": {},
   "outputs": [],
   "source": [
    "#torch.multiprocessing.set_start_method('spawn')"
   ]
  },
  {
   "cell_type": "code",
   "execution_count": 5,
   "metadata": {},
   "outputs": [],
   "source": [
    "#from torchtext.data.functional import numericalize_tokens_from_iterator"
   ]
  },
  {
   "cell_type": "code",
   "execution_count": 6,
   "metadata": {
    "id": "hoZd450QWS_b"
   },
   "outputs": [],
   "source": [
    "DATA_PATH = 'data'\n",
    "#%matplotlib inline\n",
    "\n",
    "# # For Google Colab only:\n",
    "# import sys\n",
    "# sys.path.append('/content/gdrive/My Drive/Colab Notebooks')\n",
    "# #from reco_utils.recommender.sar.sar_singlenode import SARSingleNode\n",
    "# from google.colab import drive\n",
    "# drive.mount('/content/gdrive')\n",
    "\n",
    "# DATA_PATH = 'gdrive/My Drive/Colab Notebooks/'"
   ]
  },
  {
   "cell_type": "code",
   "execution_count": 7,
   "metadata": {
    "id": "LOIyct-ItmOk",
    "outputId": "4a73c916-89ee-4ceb-a2d3-37ea7ea0298e"
   },
   "outputs": [],
   "source": [
    "import numpy as np\n",
    "import json\n",
    "\n",
    "# загружаем датасет\n",
    "img_codes = np.load(\"data/image_codes.npy\")\n",
    "captions = json.load(open('data/captions_tokenized.json'))"
   ]
  },
  {
   "cell_type": "code",
   "execution_count": 8,
   "metadata": {},
   "outputs": [
    {
     "data": {
      "text/plain": [
       "118287"
      ]
     },
     "execution_count": 8,
     "metadata": {},
     "output_type": "execute_result"
    }
   ],
   "source": [
    "len(captions)"
   ]
  },
  {
   "cell_type": "code",
   "execution_count": 9,
   "metadata": {},
   "outputs": [],
   "source": [
    "example = 2000"
   ]
  },
  {
   "cell_type": "code",
   "execution_count": 10,
   "metadata": {},
   "outputs": [],
   "source": [
    "# captions = captions[:example]\n",
    "# img_codes = img_codes[:example]"
   ]
  },
  {
   "cell_type": "code",
   "execution_count": 11,
   "metadata": {
    "id": "om6GHAEdtmOu",
    "outputId": "85abe61c-1158-4a24-f960-2a95589a027d"
   },
   "outputs": [
    {
     "name": "stdout",
     "output_type": "stream",
     "text": [
      "Each image code is a 2048-unit vector [ shape: (118287, 2048) ]\n",
      "[0.3659946  0.2016555  0.9245725  0.57063824 0.547268   0.8275868\n",
      " 0.3687277  0.12085301 0.0561931  0.49758485]\n",
      "\n",
      "For each image there are 5 reference captions, e.g.:\n",
      "\n",
      "people shopping in an open market for vegetables .\n",
      "an open market full of people and piles of vegetables .\n",
      "people are shopping at an open air produce market .\n",
      "large piles of carrots and potatoes at a crowded outdoor market .\n",
      "people shop for vegetables like carrots and potatoes at an open air market .\n"
     ]
    }
   ],
   "source": [
    "# посмотрим на датасет\n",
    "print(\"Each image code is a 2048-unit vector [ shape: %s ]\" % str(img_codes.shape))\n",
    "print(img_codes[0,:10], end='\\n\\n')\n",
    "print(\"For each image there are 5 reference captions, e.g.:\\n\")\n",
    "print('\\n'.join(captions[0]))"
   ]
  },
  {
   "cell_type": "markdown",
   "metadata": {
    "id": "3M3zOw1otmOy"
   },
   "source": [
    "Как можно видеть, в датасете все captions (тексты-описания) уже токенизированы и приведены в нижний регистр. Нам осталось сделать следующее:\n",
    "\n",
    "1. Добавить ко всем описаниям символы начала и конца предложения \n",
    "2. Посчитать частоту встречания каждого слова из словаря и оставить тольео те, которые встречаются больше Х раз (например, Х=5)\n",
    "3. Создать словарь из оставшихся слов + символов начала, конца предложения и PAD символа\n",
    "4. Написать функцию, которая будет возвращать батч из описаний. Мы такое уже делали на прошлвх занятиях. Батч должен выглядеть примерно так:\n",
    "ВАЖНО! Почему я советую писать отдельную функцию, которая генерирует батч: дело в том, что в датасете для каждой картинки есть несколько (5-7) различных описаний. Когда создаете батч, лучше, чтобы в нем были разные картинки, и к каждой картинке при создании батча выбирать одно из ее описаний рандомно. Это проще реализовать в отдельной функции (но вы, конечно, можете писать код как хотите)\n",
    "5. Поделить выборку на train/test\n",
    "\n",
    "[[   1,  525, 8955, 5392, 9640, 4713, 7470,  525, 7341, 2296, 7696,2,    3,    3,    3,    3,    3,    3,    3],\n",
    "   \n",
    "[   1,  525, 8955, 6784, 3557,  525, 7341, 2296,    2,    3,    3,3,    3,    3,    3,    3,    3,    3,    3],\n",
    "\n",
    "[   1,  525, 8955, 9209, 3557, 5486, 8335, 3071, 2296,    2,    3,3,    3,    3,    3,    3,    3,    3,    3],\n",
    "\n",
    "[   1, 6292, 1508, 8955, 9209, 6784, 3557, 3071, 6971, 5520, 7696,2,    3,    3,    3,    3,    3,    3,    3],\n",
    "\n",
    "[   1,  525, 8955, 6784, 3557,  525, 7341, 6919, 2919, 6292,  250,393,  525, 4618, 8335, 6292, 7882, 7696,    2]]\n",
    "         \n",
    "То есть, короткие предложения дополняются PAD символами, слишком длинные обрезуются, в начале и конце по коду символа начал и конца предложения.\n",
    "\n",
    "Уверена, эта часть вам покажется очень знакомой и легкой =)"
   ]
  },
  {
   "cell_type": "code",
   "execution_count": 12,
   "metadata": {},
   "outputs": [],
   "source": [
    "from torchtext import vocab\n",
    "\n",
    "class VocabTorchText():\n",
    "    '''\n",
    "    Класс является инструментом по работе со словарем TorchText\n",
    "    '''\n",
    "    \n",
    "    TAG_UNKNOWN = '<unk>'\n",
    "    TAG_START = '<sos>'\n",
    "    TAG_END = '<eos>'\n",
    "    TAG_PAD = '<pad>'\n",
    "    \n",
    "    def __init__(self, captions, min_freq=5):\n",
    "    \n",
    "        self.vocab = vocab.build_vocab_from_iterator(self._vocab_itrerator(captions), min_freq=min_freq, specials=[self.TAG_PAD, self.TAG_START, self.TAG_END, self.TAG_UNKNOWN])\n",
    "    \n",
    "        self.dict_word_to_index = self.vocab.get_stoi()\n",
    "        self.list_words = self.vocab.get_itos()\n",
    "    \n",
    "        self.pad_ix = self.dict_word_to_index[self.TAG_PAD]\n",
    "        self.unk_ix = self.dict_word_to_index[self.TAG_UNKNOWN]\n",
    "    \n",
    "    def _vocab_itrerator(self, captions):\n",
    "        '''\n",
    "        Данный итератор разбирает последовательность списка спиков, чтобы достать все записи описаний\n",
    "        '''\n",
    "        for caption in captions:\n",
    "            for sentence in caption:\n",
    "                yield sentence.strip().split()\n",
    "                \n",
    "    def sequence_tokens_to_vector(self, sequence_tokens, max_len=None):\n",
    "        '''\n",
    "        Функция возвращает вектор предложения по входной последовательности токенов\n",
    "        Делает это достаточно быстро\n",
    "        '''\n",
    "        max_len = max_len or len(sequence_tokens)\n",
    "        sentence = np.ones(max_len, dtype='int64') * self.pad_ix\n",
    "        row_ix = [self.dict_word_to_index[word] if word in self.dict_word_to_index.keys() else self.unk_ix for word in sequence_tokens[:max_len]]\n",
    "        sentence[:len(row_ix)] = row_ix    \n",
    "\n",
    "        return sentence                \n",
    "    \n",
    "    def vector_to_sequence_tokens(self, vector):\n",
    "        '''\n",
    "        Преобразует ветор обратно в список токенов\n",
    "        '''\n",
    "        sentence = []\n",
    "        for index in vector:\n",
    "            sentence.append(self.list_words[index])\n",
    "        return sentence\n",
    "    \n",
    "    def remove_start_tags(self, sequence_tokens):\n",
    "        result = []\n",
    "        for token in sequence_tokens:\n",
    "            if token == self.TAG_UNKNOWN or token == self.TAG_START or token == self.TAG_END or token == self.TAG_PAD:\n",
    "                pass\n",
    "            else:\n",
    "                result.append(token)\n",
    "        \n",
    "        return result\n",
    "    \n",
    "    def __len__(self):\n",
    "        return len(self.vocab)\n",
    "                \n",
    "vocab_class = VocabTorchText(captions)                "
   ]
  },
  {
   "cell_type": "code",
   "execution_count": 13,
   "metadata": {},
   "outputs": [],
   "source": [
    "# #Вставляем стартовые и конечные токены, и делаем токенизацию\n",
    "# for img_i in range(len(captions)):\n",
    "#     for caption_i in range(len(captions[img_i])):\n",
    "#         sentence = captions[img_i][caption_i]         \n",
    "#         sentence = vocab_class.TAG_START+' '+sentence+' '+vocab_class.TAG_END\n",
    "#         captions[img_i][caption_i] = sentence.split()"
   ]
  },
  {
   "cell_type": "code",
   "execution_count": 14,
   "metadata": {},
   "outputs": [
    {
     "data": {
      "text/plain": [
       "['people', 'shopping', 'in', 'an', 'open', 'market', 'for', 'vegetables', '.']"
      ]
     },
     "execution_count": 14,
     "metadata": {},
     "output_type": "execute_result"
    }
   ],
   "source": [
    "msg = captions[0][0].strip().split()\n",
    "msg"
   ]
  },
  {
   "cell_type": "code",
   "execution_count": 15,
   "metadata": {},
   "outputs": [
    {
     "data": {
      "text/plain": [
       "9"
      ]
     },
     "execution_count": 15,
     "metadata": {},
     "output_type": "execute_result"
    }
   ],
   "source": [
    "len(msg)"
   ]
  },
  {
   "cell_type": "code",
   "execution_count": 16,
   "metadata": {},
   "outputs": [
    {
     "data": {
      "text/plain": [
       "array([  21, 1027,    9,   16,  134,  491,   81,  211,    5,    0,    0,\n",
       "          0,    0,    0,    0,    0,    0,    0,    0,    0])"
      ]
     },
     "execution_count": 16,
     "metadata": {},
     "output_type": "execute_result"
    }
   ],
   "source": [
    "vector = vocab_class.sequence_tokens_to_vector(msg,20)\n",
    "vector"
   ]
  },
  {
   "cell_type": "code",
   "execution_count": 17,
   "metadata": {},
   "outputs": [
    {
     "data": {
      "text/plain": [
       "array([  21, 1027,    9,   16,  134,  491,   81,  211,    5])"
      ]
     },
     "execution_count": 17,
     "metadata": {},
     "output_type": "execute_result"
    }
   ],
   "source": [
    "vector = vocab_class.sequence_tokens_to_vector(msg)\n",
    "vector"
   ]
  },
  {
   "cell_type": "code",
   "execution_count": 18,
   "metadata": {},
   "outputs": [
    {
     "data": {
      "text/plain": [
       "['people', 'shopping', 'in', 'an', 'open', 'market', 'for', 'vegetables', '.']"
      ]
     },
     "execution_count": 18,
     "metadata": {},
     "output_type": "execute_result"
    }
   ],
   "source": [
    "vocab_class.vector_to_sequence_tokens(vector)"
   ]
  },
  {
   "cell_type": "code",
   "execution_count": 19,
   "metadata": {},
   "outputs": [],
   "source": [
    "#Поэкспериментируем со свойствами словаря"
   ]
  },
  {
   "cell_type": "code",
   "execution_count": 20,
   "metadata": {},
   "outputs": [
    {
     "data": {
      "text/plain": [
       "{'training': True,\n",
       " '_parameters': OrderedDict(),\n",
       " '_buffers': OrderedDict(),\n",
       " '_non_persistent_buffers_set': set(),\n",
       " '_backward_hooks': OrderedDict(),\n",
       " '_is_full_backward_hook': None,\n",
       " '_forward_hooks': OrderedDict(),\n",
       " '_forward_pre_hooks': OrderedDict(),\n",
       " '_state_dict_hooks': OrderedDict(),\n",
       " '_load_state_dict_pre_hooks': OrderedDict(),\n",
       " '_modules': OrderedDict(),\n",
       " 'vocab': <torchtext._torchtext.Vocab at 0x7f56fa09e618>}"
      ]
     },
     "execution_count": 20,
     "metadata": {},
     "output_type": "execute_result"
    }
   ],
   "source": [
    "vocab_class.vocab.__dict__"
   ]
  },
  {
   "cell_type": "code",
   "execution_count": 21,
   "metadata": {},
   "outputs": [
    {
     "data": {
      "text/plain": [
       "10403"
      ]
     },
     "execution_count": 21,
     "metadata": {},
     "output_type": "execute_result"
    }
   ],
   "source": [
    "len(vocab_class.vocab)"
   ]
  },
  {
   "cell_type": "code",
   "execution_count": 22,
   "metadata": {},
   "outputs": [
    {
     "data": {
      "text/plain": [
       "['<pad>', '<sos>', '<eos>', '<unk>', 'a', '.', 'on', 'of', 'the', 'in']"
      ]
     },
     "execution_count": 22,
     "metadata": {},
     "output_type": "execute_result"
    }
   ],
   "source": [
    "vocab_class.list_words[:10]"
   ]
  },
  {
   "cell_type": "code",
   "execution_count": 23,
   "metadata": {},
   "outputs": [],
   "source": [
    "#train test split"
   ]
  },
  {
   "cell_type": "code",
   "execution_count": 24,
   "metadata": {},
   "outputs": [],
   "source": [
    "#captions = np.array(captions)\n",
    "train_img_codes, val_img_codes, train_captions, val_captions = model_selection.train_test_split(img_codes, captions,\n",
    "                                                                                test_size=0.1,\n",
    "                                                                                random_state=42)"
   ]
  },
  {
   "cell_type": "code",
   "execution_count": 25,
   "metadata": {},
   "outputs": [],
   "source": [
    "#Временно сделаем чтобы train==val. Чтобы модель смогла переобучится\n",
    "#train_img_codes, val_img_codes, train_captions, val_captions = img_codes, img_codes, captions, captions"
   ]
  },
  {
   "cell_type": "code",
   "execution_count": 26,
   "metadata": {},
   "outputs": [],
   "source": [
    "del(img_codes)\n",
    "del(captions)"
   ]
  },
  {
   "cell_type": "code",
   "execution_count": 27,
   "metadata": {},
   "outputs": [],
   "source": [
    "class CaptionDataset(Dataset):\n",
    "    '''\n",
    "    Класс обслуживает torchtext vocab и список списков последовательностей для обработки\n",
    "    и выдачу их по одному но равномерно\n",
    "    '''\n",
    "    \n",
    "    def __init__(self, vocab, captions, img_codes, sentence_len=20, random_issue=True, split_tokens=True, add_eos=True):\n",
    "        super().__init__()\n",
    "        \n",
    "        self.img_codes = img_codes\n",
    "        self.vocab = vocab\n",
    "        self.captions = captions\n",
    "        self.sentence_len = sentence_len\n",
    "        \n",
    "        self.random_issue = random_issue\n",
    "        self.split_tokens = split_tokens\n",
    "        self.add_eos = add_eos\n",
    "        \n",
    "        self.captions_read_count = [] #Счетчик выдачи описаний, необходим для равномерной выдачи разных названий\n",
    "        for captions_image in captions:\n",
    "            self.captions_read_count.append(np.zeros(len(captions_image)))\n",
    "                \n",
    "    def __len__(self):\n",
    "        return len(self.captions)\n",
    "    \n",
    "    def _get_sentence_(self, index):\n",
    "        '''\n",
    "        Функция выбирает необходимый подиндекс, делая равномерное распределение выдачи разных вариантов\n",
    "        '''\n",
    "        captions_image = self.captions[index]\n",
    "        \n",
    "        captions_read = self.captions_read_count[index]\n",
    "        \n",
    "        min_count = min(captions_read)\n",
    "\n",
    "        bool_read = (captions_read == min_count) * 1\n",
    "        \n",
    "        if self.random_issue:\n",
    "            sub_index = int(np.random.choice(np.arange(len(captions_read)),size=1, p=bool_read/np.sum(bool_read)))\n",
    "        else:\n",
    "            sub_index = int(np.argmax(bool_read))\n",
    "        \n",
    "        \n",
    "        #print('index', index, sub_index)\n",
    "        \n",
    "        self.captions_read_count[index][sub_index] += 1\n",
    "\n",
    "        caption = self.captions[index][sub_index]\n",
    "        \n",
    "        if self.add_eos:\n",
    "            caption = self.vocab.TAG_START+' '+caption+' '+self.vocab.TAG_END\n",
    "            \n",
    "        if self.split_tokens:\n",
    "            caption = caption.split()\n",
    "        \n",
    "        sequence_tokens = caption\n",
    "        \n",
    "        #print(sequence_tokens)\n",
    "        \n",
    "        return self.vocab.sequence_tokens_to_vector(sequence_tokens, self.sentence_len)\n",
    "    \n",
    "    def __getitem__(self, index):\n",
    "        \n",
    "        dict_result = {}\n",
    "        dict_result['sentence'] = self._get_sentence_(index)\n",
    "        \n",
    "        dict_result['futures'] = self.img_codes[index]\n",
    "        dict_result['labels'] = index\n",
    "            \n",
    "        return dict_result"
   ]
  },
  {
   "cell_type": "code",
   "execution_count": null,
   "metadata": {},
   "outputs": [],
   "source": []
  },
  {
   "cell_type": "code",
   "execution_count": 28,
   "metadata": {},
   "outputs": [],
   "source": [
    "ds = CaptionDataset(vocab_class, train_captions, train_img_codes, 20, random_issue=True)"
   ]
  },
  {
   "cell_type": "code",
   "execution_count": 29,
   "metadata": {},
   "outputs": [],
   "source": [
    "#ds.captions"
   ]
  },
  {
   "cell_type": "code",
   "execution_count": 30,
   "metadata": {},
   "outputs": [
    {
     "data": {
      "text/plain": [
       "{'sentence': array([  1,  17, 294,   6,   8,  54, 589, 561, 146,   4, 398,   5,   2,\n",
       "          0,   0,   0,   0,   0,   0,   0]),\n",
       " 'futures': array([0.30702457, 0.33112672, 0.49947745, ..., 0.03013637, 0.29778057,\n",
       "        0.2297566 ], dtype=float32),\n",
       " 'labels': 0}"
      ]
     },
     "execution_count": 30,
     "metadata": {},
     "output_type": "execute_result"
    }
   ],
   "source": [
    "ds[0]"
   ]
  },
  {
   "cell_type": "code",
   "execution_count": 31,
   "metadata": {},
   "outputs": [
    {
     "data": {
      "text/plain": [
       "array([0., 0., 0., 1., 0.])"
      ]
     },
     "execution_count": 31,
     "metadata": {},
     "output_type": "execute_result"
    }
   ],
   "source": [
    "ds.captions_read_count[0]"
   ]
  },
  {
   "cell_type": "code",
   "execution_count": 32,
   "metadata": {},
   "outputs": [],
   "source": [
    "#ds_m = CaptionDatasetMem(ds, 'data')"
   ]
  },
  {
   "cell_type": "code",
   "execution_count": 33,
   "metadata": {},
   "outputs": [],
   "source": [
    "#Проверим работу датасета"
   ]
  },
  {
   "cell_type": "code",
   "execution_count": 34,
   "metadata": {},
   "outputs": [
    {
     "data": {
      "text/plain": [
       "array([0.09798327, 0.11954759, 0.13371491, ..., 0.22059338, 0.43346354,\n",
       "       0.26252404], dtype=float32)"
      ]
     },
     "execution_count": 34,
     "metadata": {},
     "output_type": "execute_result"
    }
   ],
   "source": [
    "ds.img_codes[1]"
   ]
  },
  {
   "cell_type": "code",
   "execution_count": 35,
   "metadata": {},
   "outputs": [
    {
     "data": {
      "text/plain": [
       "106458"
      ]
     },
     "execution_count": 35,
     "metadata": {},
     "output_type": "execute_result"
    }
   ],
   "source": [
    "len(ds)"
   ]
  },
  {
   "cell_type": "code",
   "execution_count": 36,
   "metadata": {},
   "outputs": [
    {
     "data": {
      "text/plain": [
       "{'sentence': array([   1,   30,   18, 1956,  178,    9, 1067,   18,   10, 3083,  719,\n",
       "         239,    4,  315,    7,   54,    5,    2,    0,    0]),\n",
       " 'futures': array([0.09798327, 0.11954759, 0.13371491, ..., 0.22059338, 0.43346354,\n",
       "        0.26252404], dtype=float32),\n",
       " 'labels': 1}"
      ]
     },
     "execution_count": 36,
     "metadata": {},
     "output_type": "execute_result"
    }
   ],
   "source": [
    "ds[1]"
   ]
  },
  {
   "cell_type": "markdown",
   "metadata": {
    "id": "leHdzi4ntmOz"
   },
   "source": [
    "### 2. Напишем свою сетку из RNN для вывода описаний\n"
   ]
  },
  {
   "cell_type": "markdown",
   "metadata": {
    "id": "q9NKJKlNJPRE"
   },
   "source": [
    "Сейчас мы напишем сеть, которая будет получать выходы CNN-сетки (эмбеддинги картинок) и преобразовывать их в текст."
   ]
  },
  {
   "cell_type": "code",
   "execution_count": 37,
   "metadata": {
    "id": "t9kb62IQtmO0"
   },
   "outputs": [],
   "source": [
    "import torch, torch.nn as nn\n",
    "import torch.nn.functional as F"
   ]
  },
  {
   "cell_type": "code",
   "execution_count": 38,
   "metadata": {
    "id": "6PJTCTYTtmO2"
   },
   "outputs": [],
   "source": [
    "class CaptionNet(nn.Module):\n",
    "    def __init__(self, cnn_feature_size=2048, n_tokens=20, emb_size=128, lstm_units=256):\n",
    "        super(self.__class__, self).__init__()\n",
    "\n",
    "\n",
    "        # стандартная архитектура такой сети такая: \n",
    "        # 1. линейные слои для преобразования эмбеддиинга картинки в начальные состояния h0 и c0 LSTM-ки\n",
    "        # 2. слой эмбедднга\n",
    "        # 3. несколько LSTM слоев (для начала не берите больше двух, чтобы долго не ждать)\n",
    "        # 4. линейный слой для получения логитов\n",
    "        #<YOUR CODE>\n",
    "        self.cnn_to_h0 = nn.Linear(cnn_feature_size, lstm_units)\n",
    "        self.cnn_to_c0 = nn.Linear(cnn_feature_size, lstm_units)\n",
    "        self.emb = nn.Embedding(n_tokens, emb_size)\n",
    "        self.lstm = nn.LSTM(emb_size, lstm_units, batch_first=True)\n",
    "        \n",
    "        self.logits = nn.Linear(lstm_units, n_tokens)        \n",
    "        \n",
    "    def forward(self, image_vectors, captions_ix):\n",
    "        \"\"\" \n",
    "        Apply the network in training mode. \n",
    "        :param image_vectors: torch tensor, содержащий выходы inseption. Те, из которых будем генерить текст\n",
    "                shape: [batch, cnn_feature_size]\n",
    "        :param captions_ix: \n",
    "                таргет описания картинок в виде матрицы\n",
    "        :returns: логиты для сгенерированного текста описания, shape: [batch, word_i, n_tokens]\n",
    "\n",
    "        Обратите внимание, что мы подаем сети на вход сразу все префиксы описания \n",
    "        и просим ее к каждому префиксу сгенерировать следующее слово!\n",
    "        \"\"\"\n",
    "        \n",
    "        # 1. инициализируем LSTM state\n",
    "        # 2. применим слой эмбеддингов к image_vectors\n",
    "        # 3. скормим LSTM captions_emb\n",
    "        # 4. посчитаем логиты из выхода LSTM\n",
    "        #logits = <YOUR_CODE> \n",
    "        initial_cell = self.cnn_to_c0(image_vectors)\n",
    "        initial_hid = self.cnn_to_h0(image_vectors)\n",
    "        captions_emb = self.emb(captions_ix)\n",
    "        #lstm_out, (hn, cn) = self.lstm(captions_emb, (initial_cell, initial_hid))   \n",
    "        #lstm_out = self.lstm(captions_emb, (initial_cell[None], initial_hid[None]))\n",
    "        lstm_out = self.lstm(captions_emb, (initial_cell.unsqueeze(0), initial_hid.unsqueeze(0)))\n",
    "        #logits = self.logits(lstm_out)        \n",
    "        logits = self.logits(lstm_out[0])\n",
    "        \n",
    "        return logits        "
   ]
  },
  {
   "cell_type": "code",
   "execution_count": 39,
   "metadata": {},
   "outputs": [
    {
     "data": {
      "text/plain": [
       "10403"
      ]
     },
     "execution_count": 39,
     "metadata": {},
     "output_type": "execute_result"
    }
   ],
   "source": [
    "len(vocab_class)"
   ]
  },
  {
   "cell_type": "code",
   "execution_count": 40,
   "metadata": {
    "id": "1xqgaOEktmO4"
   },
   "outputs": [],
   "source": [
    "decoder = CaptionNet(cnn_feature_size=2048, n_tokens=len(vocab_class), emb_size=128, lstm_units=256)"
   ]
  },
  {
   "cell_type": "code",
   "execution_count": null,
   "metadata": {},
   "outputs": [],
   "source": []
  },
  {
   "cell_type": "code",
   "execution_count": 41,
   "metadata": {
    "id": "fT_rBGwStmO5"
   },
   "outputs": [],
   "source": [
    "def compute_loss(network, vocab, image_vectors, captions_ix):\n",
    "    \"\"\"\n",
    "    :param image_vectors: torch tensor c выходами inception. shape: [batch, cnn_feature_size]\n",
    "    :param captions_ix: torch tensor с описаниями (в виде матрицы). shape: [batch, word_i]. \n",
    "    \n",
    "    :returns: scalar crossentropy loss (neg log likelihood) for next captions_ix given previous ones\n",
    "    \"\"\"\n",
    "    \n",
    "    # реализуйте стандартный cross entropy loss: итоговый лосс есть сумма лоссов для каждого слова. \n",
    "    # 1. Получаем логиты, прогоняя image_vectors через сеть\n",
    "    # 2. Вычисляем лосс-функцию между полученными логитами и captions_ix. Будьте внимательны: \n",
    "    # вычисляйте лосс между логитами, полученными из сети, и соответствующими им значениями из captions_ix!\n",
    "    \n",
    "    # ВАЖНО: не забудтье, что PADDING не должен влиять на лосс -- лосс должен склыдваться\n",
    "    # только из тех мест, где должно быть предсказано слово, а не PAD\n",
    "    # это можно сделать либо заведя маску из нулей и единиц (captions_ix_next != pad_ix) и умножить на нее лосс,\n",
    "    # либо просто используя ignore_index, который в торче есть как аргумент у некоторых лоссов.\n",
    "    \n",
    "    #loss = <YOUR CODE>\n",
    "    \n",
    "    captions_ix_inp = captions_ix[:, :-1].contiguous()\n",
    "    captions_ix_next = captions_ix[:, 1:].contiguous()\n",
    "    \n",
    "    # apply the network, get predictions for captions_ix_next\n",
    "    #image_vectors = image_vectors.cuda()\n",
    "    #captions_ix_next = captions_ix_next.cuda()\n",
    "    \n",
    "    #print('image_vectors.shape', image_vectors.shape)\n",
    "    #print('captions_ix_inp.shape', captions_ix_inp.shape)\n",
    "    \n",
    "    logits_for_next = network.forward(image_vectors, captions_ix_inp)\n",
    "    #logits_for_next = logits_for_next.transpose(1, 2)  \n",
    "    \n",
    "    next_reshaped = captions_ix_next.to(device).view(-1)\n",
    "    logits_reshaped = logits_for_next.view(-1, logits_for_next.size()[-1])\n",
    "\n",
    "    \n",
    "    #loss = F.cross_entropy(logits_for_next, captions_ix_next, ignore_index = pad_ix).reshape(1)    \n",
    "    \n",
    "    mask = captions_ix_next != vocab.pad_ix\n",
    "    \n",
    "    #cross_entropy = nn.CrossEntropyLoss(reduction = 'none').to(device)\n",
    "    cross_entropy = nn.CrossEntropyLoss(reduction = 'none').to(device)\n",
    "    loss = cross_entropy(logits_reshaped, next_reshaped)\n",
    "    #print('loss 1 ', loss.shape)\n",
    "    \n",
    "    loss = loss.view(captions_ix_next.size()[0], captions_ix_next.size()[1]) * mask.float()\n",
    "    #print('loss 2 ', loss.shape)\n",
    "    loss = loss.mean(dim = -1)\n",
    "    #print('loss 3 ', loss.shape)\n",
    "    loss = loss.mean(dim = -1)\n",
    "    #print('loss 4 ', loss.shape)\n",
    "    #loss = loss.view(-1)\n",
    "    #print('loss 5 ', loss.shape)\n",
    "    \n",
    "    \n",
    "    return loss"
   ]
  },
  {
   "cell_type": "code",
   "execution_count": 42,
   "metadata": {},
   "outputs": [],
   "source": [
    "def compute_loss(network, vocab, image_vectors, captions_ix):\n",
    "    \"\"\"\n",
    "    :param image_vectors: torch tensor containing inception vectors. shape: [batch, cnn_feature_size]\n",
    "    :param captions_ix: torch tensor containing captions as matrix. shape: [batch, word_i]. \n",
    "        padded with pad_ix\n",
    "    :returns: scalar crossentropy loss (neg llh) loss for next captions_ix given previous ones\n",
    "    \"\"\"\n",
    "    \n",
    "    # captions for input - all except last cuz we don't know next token for last one.\n",
    "    captions_ix_inp = captions_ix[:, :-1].contiguous()\n",
    "    captions_ix_next = captions_ix[:, 1:].contiguous()\n",
    "    \n",
    "\n",
    "    # apply the network, get predictions for captions_ix_next\n",
    "    image_vectors = image_vectors.cuda()\n",
    "    captions_ix_next = captions_ix_next.cuda()\n",
    "    logits_for_next = network.forward(image_vectors, captions_ix_inp.cuda())\n",
    "    logits_for_next = logits_for_next.transpose(1, 2)  \n",
    "\n",
    "    # compute the loss function between logits_for_next and captions_ix_next\n",
    "    # Use the mask, Luke: make sure that predicting next tokens after EOS do not contribute to loss\n",
    "    # you can do that either by multiplying elementwise loss by (captions_ix_next != pad_ix)\n",
    "    # or by using ignore_index in some losses.\n",
    "\n",
    "    loss = F.cross_entropy(logits_for_next, captions_ix_next, ignore_index = vocab.pad_ix).reshape(1)\n",
    "\n",
    "    return loss"
   ]
  },
  {
   "cell_type": "markdown",
   "metadata": {
    "id": "R_5hPH4LtmO-"
   },
   "source": [
    "## Train it"
   ]
  },
  {
   "cell_type": "markdown",
   "metadata": {
    "id": "0N0Elg2gJuyW"
   },
   "source": [
    "Как обычно, пишем цикл тренировки, запоминаем лоссы для графиков и раз в Х такстов тренировки считаем val_loss. "
   ]
  },
  {
   "cell_type": "code",
   "execution_count": 43,
   "metadata": {
    "id": "oNb5JPGvtmO_"
   },
   "outputs": [],
   "source": [
    "#<your code here>"
   ]
  },
  {
   "cell_type": "code",
   "execution_count": 44,
   "metadata": {},
   "outputs": [],
   "source": [
    "batch_size = 128  # adjust me\n",
    "n_epochs = 18  # adjust me\n",
    "#n_epochs = 10  # adjust me\n",
    "n_epochs = 50  # adjust me"
   ]
  },
  {
   "cell_type": "code",
   "execution_count": 45,
   "metadata": {},
   "outputs": [],
   "source": [
    "device = 'cuda'"
   ]
  },
  {
   "cell_type": "code",
   "execution_count": 46,
   "metadata": {},
   "outputs": [],
   "source": [
    "#bi = BatchIterator(ds, ds.labels, batch_size=8, shuffle=False, collate_fn=collate_fn)"
   ]
  },
  {
   "cell_type": "code",
   "execution_count": 47,
   "metadata": {},
   "outputs": [
    {
     "data": {
      "text/plain": [
       "106458"
      ]
     },
     "execution_count": 47,
     "metadata": {},
     "output_type": "execute_result"
    }
   ],
   "source": [
    "ds_train = CaptionDataset(vocab_class, train_captions, train_img_codes, 20, random_issue=True)\n",
    "len(ds_train)"
   ]
  },
  {
   "cell_type": "code",
   "execution_count": 48,
   "metadata": {},
   "outputs": [
    {
     "data": {
      "text/plain": [
       "11829"
      ]
     },
     "execution_count": 48,
     "metadata": {},
     "output_type": "execute_result"
    }
   ],
   "source": [
    "ds_valid = CaptionDataset(vocab_class, val_captions, val_img_codes, 20, random_issue=False)\n",
    "len(ds_valid)"
   ]
  },
  {
   "cell_type": "code",
   "execution_count": 49,
   "metadata": {},
   "outputs": [],
   "source": [
    "decoder = decoder.to(device)"
   ]
  },
  {
   "cell_type": "code",
   "execution_count": 50,
   "metadata": {},
   "outputs": [
    {
     "data": {
      "text/plain": [
       "{'sentence': array([   1,   96,   21,    6,   39,   68,  294, 1820,  221,    4, 2690,\n",
       "         331,    2,    0,    0,    0,    0,    0,    0,    0]),\n",
       " 'futures': array([0.30702457, 0.33112672, 0.49947745, ..., 0.03013637, 0.29778057,\n",
       "        0.2297566 ], dtype=float32),\n",
       " 'labels': 0}"
      ]
     },
     "execution_count": 50,
     "metadata": {},
     "output_type": "execute_result"
    }
   ],
   "source": [
    "ds[0]"
   ]
  },
  {
   "cell_type": "code",
   "execution_count": 51,
   "metadata": {},
   "outputs": [],
   "source": [
    "def collate_fn_dataloader(batch):\n",
    "    list_sentence = []\n",
    "    list_futures = []\n",
    "    list_labels = []\n",
    "    for ds_item in batch:\n",
    "        list_sentence.append(ds_item['sentence'])\n",
    "        list_futures.append(ds_item['futures'])\n",
    "        list_labels.append(ds_item['labels'])\n",
    "\n",
    "    dict_result = {}\n",
    "        \n",
    "    list_sentence = np.array(list_sentence)\n",
    "    list_futures = np.array(list_futures)\n",
    "        \n",
    "    dict_result['sentence'] = torch.tensor(list_sentence)\n",
    "    dict_result['futures'] = torch.tensor(list_futures)\n",
    "    dict_result['labels'] = torch.tensor(list_labels)\n",
    "        \n",
    "    return dict_result"
   ]
  },
  {
   "cell_type": "code",
   "execution_count": null,
   "metadata": {},
   "outputs": [],
   "source": []
  },
  {
   "cell_type": "code",
   "execution_count": 52,
   "metadata": {},
   "outputs": [],
   "source": [
    "def generate_caption_vectors_neck(decoder, vectors_neck, vocab_class, \n",
    "                     t=1, sample=True, max_len=100):\n",
    "    \n",
    "    vocab = vocab_class.list_words\n",
    "    \n",
    "    with torch.no_grad():\n",
    "        \n",
    "        batch_size = vectors_neck.shape[0]\n",
    "        #print('batch_size', batch_size)\n",
    "        \n",
    "        if batch_size > 1:\n",
    "            caption_prefix = [vocab_class.TAG_START]\n",
    "        else:\n",
    "            caption_prefix = [vocab_class.TAG_START]\n",
    "\n",
    "        # слово за словом генерируем описание картинки\n",
    "        for _ in range(max_len):\n",
    "            # 1. представляем caption_prefix в виде матрицы\n",
    "            # 2. Получить из RNN-ки логиты, передав ей vectors_neck и матрицу из п.1\n",
    "            # 3. Перевести логиты RNN-ки в вероятности (например, с помощью F.softmax)\n",
    "            # 4. сэмплировать следующее слово в описании, используя полученные вероятности. Можно сэмплировать жадно \n",
    "            # (тупо слово с самой большой вероятностью), можно сэмплировать из распределения\n",
    "            # 5. Добавляем новое слово в caption_prefix\n",
    "            # 6. Если RNN-ка сгенерила символ конца предложения, останавливаемся\n",
    "\n",
    "            #<YOUR CODE>\n",
    "            #print('caption_prefix',caption_prefix)\n",
    "            \n",
    "            prefix_ix = vocab_class.sequence_tokens_to_vector(caption_prefix)\n",
    "            \n",
    "            prefix_ix = torch.tensor(prefix_ix, dtype=torch.int64).unsqueeze(0).cuda()\n",
    "            \n",
    "            next_word_logits = decoder.forward(vectors_neck.cuda(), prefix_ix)\n",
    "            \n",
    "            \n",
    "            next_word_logits = next_word_logits[0, -1]\n",
    "            \n",
    "            next_word_probs = F.softmax(next_word_logits, dim=-1).cpu().data.numpy()\n",
    "\n",
    "            assert len(next_word_probs.shape) ==1, 'probs must be one-dimensional'\n",
    "            next_word_probs = next_word_probs ** t / np.sum(next_word_probs ** t) # apply temperature\n",
    "\n",
    "            if sample:\n",
    "                #print('next_word_probs', next_word_probs.shape)\n",
    "                next_word = np.random.choice(vocab, p=next_word_probs) \n",
    "            else:\n",
    "                next_word = vocab[np.argmax(next_word_probs)]\n",
    "\n",
    "            caption_prefix.append(next_word)\n",
    "\n",
    "            if next_word == vocab_class.TAG_END:\n",
    "                break            \n",
    "            pass\n",
    "            \n",
    "    return caption_prefix"
   ]
  },
  {
   "cell_type": "code",
   "execution_count": null,
   "metadata": {},
   "outputs": [],
   "source": []
  },
  {
   "cell_type": "code",
   "execution_count": null,
   "metadata": {},
   "outputs": [],
   "source": []
  },
  {
   "cell_type": "code",
   "execution_count": 53,
   "metadata": {},
   "outputs": [],
   "source": [
    "from warmup_scheduler import GradualWarmupScheduler"
   ]
  },
  {
   "cell_type": "code",
   "execution_count": 54,
   "metadata": {},
   "outputs": [],
   "source": [
    "from cosine_annealing_warmup import CosineAnnealingWarmupRestarts"
   ]
  },
  {
   "cell_type": "code",
   "execution_count": 55,
   "metadata": {},
   "outputs": [],
   "source": [
    "lr = 0.001"
   ]
  },
  {
   "cell_type": "code",
   "execution_count": 56,
   "metadata": {},
   "outputs": [],
   "source": [
    "#optimizer = <YOUR CODE> # favourite one\n",
    "optimizer = torch.optim.Adam(decoder.parameters(),lr=lr)"
   ]
  },
  {
   "cell_type": "code",
   "execution_count": 57,
   "metadata": {},
   "outputs": [],
   "source": [
    "from torch.optim.lr_scheduler import StepLR"
   ]
  },
  {
   "cell_type": "code",
   "execution_count": 58,
   "metadata": {},
   "outputs": [],
   "source": [
    "# num_steps = len(ds_train_mem) * n_epochs\n",
    "# lr_scheduler = torch.optim.lr_scheduler.CosineAnnealingLR(optimizer, T_max=num_steps)"
   ]
  },
  {
   "cell_type": "code",
   "execution_count": 59,
   "metadata": {},
   "outputs": [],
   "source": [
    "# scheduler_steplr = StepLR(optimizer, step_size=10, gamma=0.1)\n",
    "# scheduler_warmup = GradualWarmupScheduler(optimizer, multiplier=1, total_epoch=5, after_scheduler=scheduler_steplr)"
   ]
  },
  {
   "cell_type": "code",
   "execution_count": 60,
   "metadata": {},
   "outputs": [],
   "source": [
    "#scheduler = CosineAnnealingWarmupRestarts(optimizer, first_cycle_steps=3000, cycle_mult=1.0, max_lr=0.01, min_lr=0.0001, warmup_steps=500, gamma=1)"
   ]
  },
  {
   "cell_type": "code",
   "execution_count": 61,
   "metadata": {},
   "outputs": [],
   "source": [
    "from nltk.translate.bleu_score import corpus_bleu"
   ]
  },
  {
   "cell_type": "code",
   "execution_count": 62,
   "metadata": {},
   "outputs": [],
   "source": [
    "from bleu.bleu import Bleu\n",
    "from meteor.meteor import Meteor\n",
    "from rouge.rouge import Rouge\n",
    "#from cider.cider import Cider\n",
    "from cider2.cider import Cider\n",
    "from spice.spice import Spice\n",
    "from ciderD.ciderD import CiderD"
   ]
  },
  {
   "cell_type": "code",
   "execution_count": 63,
   "metadata": {
    "scrolled": true
   },
   "outputs": [
    {
     "name": "stderr",
     "output_type": "stream",
     "text": [
      "100%|█████████████████████████████████████████| 832/832 [00:40<00:00, 20.62it/s]\n"
     ]
    },
    {
     "name": "stdout",
     "output_type": "stream",
     "text": [
      "lr 0 0.001\n"
     ]
    },
    {
     "name": "stderr",
     "output_type": "stream",
     "text": [
      "100%|███████████████████████████████████████████| 93/93 [02:26<00:00,  1.57s/it]\n"
     ]
    },
    {
     "name": "stdout",
     "output_type": "stream",
     "text": [
      "\n",
      "Epoch: 0, train loss: 3.801771485175078, val loss: 2.9911890593908166\n",
      "val Bleu_1 0.6364562118119792\n",
      "val Bleu_2 0.41191495267002504\n",
      "val Bleu_3 0.27160846439363184\n",
      "val Bleu_4 0.18141138667863654\n",
      "val ROUGE_L 0.49345173489059624\n",
      "val CIDEr 0.6531684892893221\n",
      "val CIDErD 0.5400993008776452\n",
      "bleu4 = 0.153\n"
     ]
    },
    {
     "name": "stderr",
     "output_type": "stream",
     "text": [
      "100%|███████████████████████████████████████| 2009/2009 [01:22<00:00, 24.36it/s]\n"
     ]
    },
    {
     "name": "stdout",
     "output_type": "stream",
     "text": [
      "lr 1 0.001\n"
     ]
    },
    {
     "name": "stderr",
     "output_type": "stream",
     "text": [
      "100%|█████████████████████████████████████████| 224/224 [02:26<00:00,  1.53it/s]\n"
     ]
    },
    {
     "name": "stdout",
     "output_type": "stream",
     "text": [
      "\n",
      "Epoch: 1, train loss: 2.9192727114087376, val loss: 2.6304339841008186\n",
      "val Bleu_1 0.6819153484392125\n",
      "val Bleu_2 0.4706395449449246\n",
      "val Bleu_3 0.3200966368235378\n",
      "val Bleu_4 0.21617610027894496\n",
      "val ROUGE_L 0.5132758374354445\n",
      "val CIDEr 0.835430977897938\n",
      "val CIDErD 0.6901092242667964\n",
      "bleu4 = 0.187\n"
     ]
    },
    {
     "name": "stderr",
     "output_type": "stream",
     "text": [
      "100%|█████████████████████████████████████| 10646/10646 [02:40<00:00, 66.19it/s]\n"
     ]
    },
    {
     "name": "stdout",
     "output_type": "stream",
     "text": [
      "lr 2 0.001\n"
     ]
    },
    {
     "name": "stderr",
     "output_type": "stream",
     "text": [
      "100%|███████████████████████████████████████| 1183/1183 [02:31<00:00,  7.83it/s]\n"
     ]
    },
    {
     "name": "stdout",
     "output_type": "stream",
     "text": [
      "\n",
      "Epoch: 2, train loss: 2.7405399135488016, val loss: 2.527329108620335\n",
      "val Bleu_1 0.6443776212708202\n",
      "val Bleu_2 0.42607996945847443\n",
      "val Bleu_3 0.28134984740467445\n",
      "val Bleu_4 0.18373046390112194\n",
      "val ROUGE_L 0.4860051473164853\n",
      "val CIDEr 0.6617368690151755\n",
      "val CIDErD 0.5702456613837231\n",
      "bleu4 = 0.183\n"
     ]
    },
    {
     "name": "stderr",
     "output_type": "stream",
     "text": [
      "100%|█████████████████████████████████████| 11829/11829 [03:15<00:00, 60.49it/s]\n"
     ]
    },
    {
     "name": "stdout",
     "output_type": "stream",
     "text": [
      "lr 3 0.001\n"
     ]
    },
    {
     "name": "stderr",
     "output_type": "stream",
     "text": [
      "100%|███████████████████████████████████████| 1315/1315 [02:42<00:00,  8.10it/s]\n"
     ]
    },
    {
     "name": "stdout",
     "output_type": "stream",
     "text": [
      "\n",
      "Epoch: 3, train loss: 2.6262493536351186, val loss: 2.475240899945393\n",
      "val Bleu_1 0.6612718418790704\n",
      "val Bleu_2 0.4386173716132394\n",
      "val Bleu_3 0.29234707476032384\n",
      "val Bleu_4 0.19733034043531572\n",
      "val ROUGE_L 0.493428710372237\n",
      "val CIDEr 0.7233335767328434\n",
      "val CIDErD 0.6142833169447558\n",
      "bleu4 = 0.192\n"
     ]
    },
    {
     "name": "stderr",
     "output_type": "stream",
     "text": [
      "100%|█████████████████████████████████████| 35486/35486 [07:44<00:00, 76.33it/s]\n"
     ]
    },
    {
     "name": "stdout",
     "output_type": "stream",
     "text": [
      "lr 4 0.001\n"
     ]
    },
    {
     "name": "stderr",
     "output_type": "stream",
     "text": [
      "100%|███████████████████████████████████████| 3943/3943 [03:09<00:00, 20.77it/s]\n"
     ]
    },
    {
     "name": "stdout",
     "output_type": "stream",
     "text": [
      "\n",
      "Epoch: 4, train loss: 2.726886797257329, val loss: 2.615472136764033\n",
      "val Bleu_1 0.641252267758277\n",
      "val Bleu_2 0.4199528354512896\n",
      "val Bleu_3 0.2723388962928561\n",
      "val Bleu_4 0.1787457035149308\n",
      "val ROUGE_L 0.4807915242373375\n",
      "val CIDEr 0.6457356778824396\n",
      "val CIDErD 0.5544775388542967\n",
      "bleu4 = 0.182\n"
     ]
    },
    {
     "name": "stderr",
     "output_type": "stream",
     "text": [
      "100%|█████████████████████████████████████| 35486/35486 [07:33<00:00, 78.33it/s]\n"
     ]
    },
    {
     "name": "stdout",
     "output_type": "stream",
     "text": [
      "lr 5 0.001\n"
     ]
    },
    {
     "name": "stderr",
     "output_type": "stream",
     "text": [
      "100%|███████████████████████████████████████| 3943/3943 [02:46<00:00, 23.70it/s]\n"
     ]
    },
    {
     "name": "stdout",
     "output_type": "stream",
     "text": [
      "\n",
      "Epoch: 5, train loss: 2.75032018695388, val loss: 2.583624499312156\n",
      "val Bleu_1 0.6519187467062557\n",
      "val Bleu_2 0.4321432946440733\n",
      "val Bleu_3 0.2833549815100222\n",
      "val Bleu_4 0.18702843497664456\n",
      "val ROUGE_L 0.48140749279283856\n",
      "val CIDEr 0.6844633382932295\n",
      "val CIDErD 0.5770719399410862\n",
      "bleu4 = 0.188\n"
     ]
    },
    {
     "name": "stderr",
     "output_type": "stream",
     "text": [
      "100%|█████████████████████████████████████| 35486/35486 [07:44<00:00, 76.38it/s]\n"
     ]
    },
    {
     "name": "stdout",
     "output_type": "stream",
     "text": [
      "lr 6 0.001\n"
     ]
    },
    {
     "name": "stderr",
     "output_type": "stream",
     "text": [
      "100%|███████████████████████████████████████| 3943/3943 [02:47<00:00, 23.48it/s]\n"
     ]
    },
    {
     "name": "stdout",
     "output_type": "stream",
     "text": [
      "\n",
      "Epoch: 6, train loss: 2.75892681415358, val loss: 2.6158893138601065\n",
      "val Bleu_1 0.6333930592229199\n",
      "val Bleu_2 0.41870971467997053\n",
      "val Bleu_3 0.27569019571122333\n",
      "val Bleu_4 0.184542334414295\n",
      "val ROUGE_L 0.4780713718324085\n",
      "val CIDEr 0.6592020696558972\n",
      "val CIDErD 0.5667349996712943\n",
      "bleu4 = 0.187\n"
     ]
    },
    {
     "name": "stderr",
     "output_type": "stream",
     "text": [
      "100%|█████████████████████████████████████| 35486/35486 [08:03<00:00, 73.33it/s]\n"
     ]
    },
    {
     "name": "stdout",
     "output_type": "stream",
     "text": [
      "lr 7 0.001\n"
     ]
    },
    {
     "name": "stderr",
     "output_type": "stream",
     "text": [
      "100%|███████████████████████████████████████| 3943/3943 [02:39<00:00, 24.72it/s]\n"
     ]
    },
    {
     "name": "stdout",
     "output_type": "stream",
     "text": [
      "\n",
      "Epoch: 7, train loss: 2.775037658622392, val loss: 2.6264974908752547\n",
      "val Bleu_1 0.655167528511708\n",
      "val Bleu_2 0.4349221513626801\n",
      "val Bleu_3 0.28915468172306114\n",
      "val Bleu_4 0.19538844655983637\n",
      "val ROUGE_L 0.48587925783562375\n",
      "val CIDEr 0.6884926674285506\n",
      "val CIDErD 0.5907980588006408\n",
      "bleu4 = 0.197\n"
     ]
    },
    {
     "name": "stderr",
     "output_type": "stream",
     "text": [
      "100%|█████████████████████████████████████| 35486/35486 [08:03<00:00, 73.37it/s]\n"
     ]
    },
    {
     "name": "stdout",
     "output_type": "stream",
     "text": [
      "lr 8 0.001\n"
     ]
    },
    {
     "name": "stderr",
     "output_type": "stream",
     "text": [
      "100%|███████████████████████████████████████| 3943/3943 [02:37<00:00, 25.04it/s]\n"
     ]
    },
    {
     "name": "stdout",
     "output_type": "stream",
     "text": [
      "\n",
      "Epoch: 8, train loss: 2.822430603909518, val loss: 2.6483620167715793\n",
      "val Bleu_1 0.6558956780209351\n",
      "val Bleu_2 0.44105024186444797\n",
      "val Bleu_3 0.29495972992581376\n",
      "val Bleu_4 0.20046798747552524\n",
      "val ROUGE_L 0.4908612803304902\n",
      "val CIDEr 0.7120844730605879\n",
      "val CIDErD 0.6052220393068076\n",
      "bleu4 = 0.201\n"
     ]
    },
    {
     "name": "stderr",
     "output_type": "stream",
     "text": [
      "100%|█████████████████████████████████████| 35486/35486 [08:07<00:00, 72.83it/s]\n"
     ]
    },
    {
     "name": "stdout",
     "output_type": "stream",
     "text": [
      "lr 9 0.001\n"
     ]
    },
    {
     "name": "stderr",
     "output_type": "stream",
     "text": [
      "100%|███████████████████████████████████████| 3943/3943 [02:39<00:00, 24.72it/s]\n"
     ]
    },
    {
     "name": "stdout",
     "output_type": "stream",
     "text": [
      "\n",
      "Epoch: 9, train loss: 2.8363664417657737, val loss: 2.6930393525830327\n",
      "val Bleu_1 0.6392438132332533\n",
      "val Bleu_2 0.4179987526363718\n",
      "val Bleu_3 0.2737082514094753\n",
      "val Bleu_4 0.1824735315090432\n",
      "val ROUGE_L 0.4768919928523413\n",
      "val CIDEr 0.6438394994084697\n",
      "val CIDErD 0.557303765435906\n",
      "bleu4 = 0.185\n"
     ]
    },
    {
     "name": "stderr",
     "output_type": "stream",
     "text": [
      "100%|█████████████████████████████████████| 35486/35486 [07:27<00:00, 79.24it/s]\n"
     ]
    },
    {
     "name": "stdout",
     "output_type": "stream",
     "text": [
      "lr 10 0.001\n"
     ]
    },
    {
     "name": "stderr",
     "output_type": "stream",
     "text": [
      "100%|███████████████████████████████████████| 3943/3943 [03:02<00:00, 21.60it/s]\n"
     ]
    },
    {
     "name": "stdout",
     "output_type": "stream",
     "text": [
      "\n",
      "Epoch: 10, train loss: 2.864410425340391, val loss: 2.713398548482246\n",
      "val Bleu_1 0.6648967122490383\n",
      "val Bleu_2 0.4440518485551134\n",
      "val Bleu_3 0.2977125770606124\n",
      "val Bleu_4 0.20186325788011772\n",
      "val ROUGE_L 0.49078368818859613\n",
      "val CIDEr 0.6985382541175725\n",
      "val CIDErD 0.6098394318131288\n",
      "bleu4 = 0.205\n"
     ]
    },
    {
     "name": "stderr",
     "output_type": "stream",
     "text": [
      "100%|█████████████████████████████████████| 35486/35486 [07:27<00:00, 79.28it/s]\n"
     ]
    },
    {
     "name": "stdout",
     "output_type": "stream",
     "text": [
      "lr 11 0.001\n"
     ]
    },
    {
     "name": "stderr",
     "output_type": "stream",
     "text": [
      "100%|███████████████████████████████████████| 3943/3943 [03:07<00:00, 21.03it/s]\n"
     ]
    },
    {
     "name": "stdout",
     "output_type": "stream",
     "text": [
      "\n",
      "Epoch: 11, train loss: 2.9135849413410595, val loss: 2.7322751946204997\n",
      "val Bleu_1 0.6621407241507872\n",
      "val Bleu_2 0.44578265517908744\n",
      "val Bleu_3 0.2979151434667661\n",
      "val Bleu_4 0.2022258046679891\n",
      "val ROUGE_L 0.49655937363402114\n",
      "val CIDEr 0.7176196466795159\n",
      "val CIDErD 0.6204743972928656\n",
      "bleu4 = 0.203\n"
     ]
    },
    {
     "name": "stderr",
     "output_type": "stream",
     "text": [
      "100%|█████████████████████████████████████| 35486/35486 [07:35<00:00, 77.82it/s]\n"
     ]
    },
    {
     "name": "stdout",
     "output_type": "stream",
     "text": [
      "lr 12 0.001\n"
     ]
    },
    {
     "name": "stderr",
     "output_type": "stream",
     "text": [
      "100%|███████████████████████████████████████| 3943/3943 [02:59<00:00, 22.02it/s]\n"
     ]
    },
    {
     "name": "stdout",
     "output_type": "stream",
     "text": [
      "\n",
      "Epoch: 12, train loss: 2.9716400177097975, val loss: 2.779527488121852\n",
      "val Bleu_1 0.6588335825678118\n",
      "val Bleu_2 0.4418379947039321\n",
      "val Bleu_3 0.2951723773731773\n",
      "val Bleu_4 0.19975807134932652\n",
      "val ROUGE_L 0.49172926826674196\n",
      "val CIDEr 0.6939885235351725\n",
      "val CIDErD 0.601908501305183\n",
      "bleu4 = 0.202\n"
     ]
    },
    {
     "name": "stderr",
     "output_type": "stream",
     "text": [
      "100%|█████████████████████████████████████| 35486/35486 [07:48<00:00, 75.78it/s]\n"
     ]
    },
    {
     "name": "stdout",
     "output_type": "stream",
     "text": [
      "lr 13 0.001\n"
     ]
    },
    {
     "name": "stderr",
     "output_type": "stream",
     "text": [
      "100%|███████████████████████████████████████| 3943/3943 [02:33<00:00, 25.77it/s]\n"
     ]
    },
    {
     "name": "stdout",
     "output_type": "stream",
     "text": [
      "\n",
      "Epoch: 13, train loss: 2.9915188359047202, val loss: 2.7937038976197432\n",
      "val Bleu_1 0.6738776114979831\n",
      "val Bleu_2 0.4553848059002475\n",
      "val Bleu_3 0.30639840431330834\n",
      "val Bleu_4 0.20871312951918422\n",
      "val ROUGE_L 0.4973826420130691\n",
      "val CIDEr 0.7237678282888399\n",
      "val CIDErD 0.6271378142375963\n",
      "bleu4 = 0.212\n"
     ]
    },
    {
     "name": "stderr",
     "output_type": "stream",
     "text": [
      "100%|█████████████████████████████████████| 35486/35486 [08:10<00:00, 72.38it/s]\n"
     ]
    },
    {
     "name": "stdout",
     "output_type": "stream",
     "text": [
      "lr 14 0.001\n"
     ]
    },
    {
     "name": "stderr",
     "output_type": "stream",
     "text": [
      "100%|███████████████████████████████████████| 3943/3943 [02:35<00:00, 25.28it/s]\n"
     ]
    },
    {
     "name": "stdout",
     "output_type": "stream",
     "text": [
      "\n",
      "Epoch: 14, train loss: 2.996633513178839, val loss: 2.7919882783090406\n",
      "val Bleu_1 0.662409556645446\n",
      "val Bleu_2 0.44918378992444735\n",
      "val Bleu_3 0.3024672163349667\n",
      "val Bleu_4 0.20410059040182663\n",
      "val ROUGE_L 0.4932795753237874\n",
      "val CIDEr 0.7122924809308818\n",
      "val CIDErD 0.6117404533217505\n",
      "bleu4 = 0.203\n"
     ]
    },
    {
     "name": "stderr",
     "output_type": "stream",
     "text": [
      "100%|█████████████████████████████████████| 35486/35486 [07:59<00:00, 74.02it/s]\n"
     ]
    },
    {
     "name": "stdout",
     "output_type": "stream",
     "text": [
      "lr 15 0.001\n"
     ]
    },
    {
     "name": "stderr",
     "output_type": "stream",
     "text": [
      "100%|███████████████████████████████████████| 3943/3943 [02:38<00:00, 24.88it/s]\n"
     ]
    },
    {
     "name": "stdout",
     "output_type": "stream",
     "text": [
      "\n",
      "Epoch: 15, train loss: 2.9932986744370083, val loss: 2.806232465090499\n",
      "val Bleu_1 0.664548039473354\n",
      "val Bleu_2 0.4462392883752498\n",
      "val Bleu_3 0.2977174799601451\n",
      "val Bleu_4 0.19974363916436275\n",
      "val ROUGE_L 0.49201254288281776\n",
      "val CIDEr 0.7114547097573779\n",
      "val CIDErD 0.6103440803789616\n",
      "bleu4 = 0.201\n"
     ]
    },
    {
     "name": "stderr",
     "output_type": "stream",
     "text": [
      "100%|█████████████████████████████████████| 35486/35486 [08:16<00:00, 71.45it/s]\n"
     ]
    },
    {
     "name": "stdout",
     "output_type": "stream",
     "text": [
      "lr 16 0.001\n"
     ]
    },
    {
     "name": "stderr",
     "output_type": "stream",
     "text": [
      "100%|███████████████████████████████████████| 3943/3943 [02:40<00:00, 24.62it/s]\n"
     ]
    },
    {
     "name": "stdout",
     "output_type": "stream",
     "text": [
      "\n",
      "Epoch: 16, train loss: 3.1572829335281294, val loss: 2.9160975331647006\n",
      "val Bleu_1 0.6462076332912342\n",
      "val Bleu_2 0.42795858545714566\n",
      "val Bleu_3 0.2830406644021067\n",
      "val Bleu_4 0.189310356719419\n",
      "val ROUGE_L 0.48347410448437356\n",
      "val CIDEr 0.658743003432535\n",
      "val CIDErD 0.5701497458542522\n",
      "bleu4 = 0.188\n"
     ]
    },
    {
     "name": "stderr",
     "output_type": "stream",
     "text": [
      "100%|█████████████████████████████████████| 35486/35486 [07:41<00:00, 76.82it/s]\n"
     ]
    },
    {
     "name": "stdout",
     "output_type": "stream",
     "text": [
      "lr 17 0.001\n"
     ]
    },
    {
     "name": "stderr",
     "output_type": "stream",
     "text": [
      "100%|███████████████████████████████████████| 3943/3943 [03:04<00:00, 21.42it/s]\n"
     ]
    },
    {
     "name": "stdout",
     "output_type": "stream",
     "text": [
      "\n",
      "Epoch: 17, train loss: 3.0985497704106133, val loss: 2.896215523979309\n",
      "val Bleu_1 0.6553179246187625\n",
      "val Bleu_2 0.43412638906317647\n",
      "val Bleu_3 0.2844194702410162\n",
      "val Bleu_4 0.1875855966246905\n",
      "val ROUGE_L 0.4839396839332741\n",
      "val CIDEr 0.6749933189541603\n",
      "val CIDErD 0.588443307837295\n",
      "bleu4 = 0.189\n"
     ]
    },
    {
     "name": "stderr",
     "output_type": "stream",
     "text": [
      "100%|█████████████████████████████████████| 35486/35486 [07:41<00:00, 76.85it/s]\n"
     ]
    },
    {
     "name": "stdout",
     "output_type": "stream",
     "text": [
      "lr 18 0.001\n"
     ]
    },
    {
     "name": "stderr",
     "output_type": "stream",
     "text": [
      "100%|███████████████████████████████████████| 3943/3943 [02:06<00:00, 31.18it/s]\n"
     ]
    },
    {
     "name": "stdout",
     "output_type": "stream",
     "text": [
      "\n",
      "Epoch: 18, train loss: 3.139485820969163, val loss: 2.9208732916865587\n",
      "val Bleu_1 0.652420073722489\n",
      "val Bleu_2 0.4417964841855899\n",
      "val Bleu_3 0.294996960208258\n",
      "val Bleu_4 0.1975578708553144\n",
      "val ROUGE_L 0.4847411231219882\n",
      "val CIDEr 0.7018792461920949\n",
      "val CIDErD 0.6000399386004257\n",
      "bleu4 = 0.201\n"
     ]
    },
    {
     "name": "stderr",
     "output_type": "stream",
     "text": [
      "100%|████████████████████████████████████| 35486/35486 [05:52<00:00, 100.78it/s]\n"
     ]
    },
    {
     "name": "stdout",
     "output_type": "stream",
     "text": [
      "lr 19 0.001\n"
     ]
    },
    {
     "name": "stderr",
     "output_type": "stream",
     "text": [
      "100%|███████████████████████████████████████| 3943/3943 [01:36<00:00, 41.02it/s]\n"
     ]
    },
    {
     "name": "stdout",
     "output_type": "stream",
     "text": [
      "\n",
      "Epoch: 19, train loss: 3.1472836418548393, val loss: 2.9180134454264484\n",
      "val Bleu_1 0.6634786108283265\n",
      "val Bleu_2 0.44955869512733226\n",
      "val Bleu_3 0.30249218544755146\n",
      "val Bleu_4 0.20440265141616593\n",
      "val ROUGE_L 0.49520060604608374\n",
      "val CIDEr 0.7228814055564634\n",
      "val CIDErD 0.6307014212614128\n",
      "bleu4 = 0.205\n"
     ]
    },
    {
     "name": "stderr",
     "output_type": "stream",
     "text": [
      "100%|████████████████████████████████████| 35486/35486 [05:50<00:00, 101.31it/s]\n"
     ]
    },
    {
     "name": "stdout",
     "output_type": "stream",
     "text": [
      "lr 20 0.001\n"
     ]
    },
    {
     "name": "stderr",
     "output_type": "stream",
     "text": [
      "100%|███████████████████████████████████████| 3943/3943 [01:33<00:00, 42.26it/s]\n"
     ]
    },
    {
     "name": "stdout",
     "output_type": "stream",
     "text": [
      "\n",
      "Epoch: 20, train loss: 3.171618236085107, val loss: 2.948021518150139\n",
      "val Bleu_1 0.6592192250156672\n",
      "val Bleu_2 0.44872418142644604\n",
      "val Bleu_3 0.30390119262952553\n",
      "val Bleu_4 0.2075473577646633\n",
      "val ROUGE_L 0.4923284893945447\n",
      "val CIDEr 0.7213072158804416\n",
      "val CIDErD 0.6201558237129706\n",
      "bleu4 = 0.209\n"
     ]
    },
    {
     "name": "stderr",
     "output_type": "stream",
     "text": [
      "100%|████████████████████████████████████| 35486/35486 [05:51<00:00, 101.02it/s]\n"
     ]
    },
    {
     "name": "stdout",
     "output_type": "stream",
     "text": [
      "lr 21 0.001\n"
     ]
    },
    {
     "name": "stderr",
     "output_type": "stream",
     "text": [
      "100%|███████████████████████████████████████| 3943/3943 [01:31<00:00, 43.00it/s]\n"
     ]
    },
    {
     "name": "stdout",
     "output_type": "stream",
     "text": [
      "\n",
      "Epoch: 21, train loss: 3.1729474488897953, val loss: 2.9599475621300364\n",
      "val Bleu_1 0.6712281309544266\n",
      "val Bleu_2 0.4499002289097685\n",
      "val Bleu_3 0.300446707893549\n",
      "val Bleu_4 0.20317909267896722\n",
      "val ROUGE_L 0.49380556487295435\n",
      "val CIDEr 0.7064853042221084\n",
      "val CIDErD 0.6172340471331643\n",
      "bleu4 = 0.204\n"
     ]
    },
    {
     "name": "stderr",
     "output_type": "stream",
     "text": [
      "100%|████████████████████████████████████| 35486/35486 [05:50<00:00, 101.15it/s]\n"
     ]
    },
    {
     "name": "stdout",
     "output_type": "stream",
     "text": [
      "lr 22 0.001\n"
     ]
    },
    {
     "name": "stderr",
     "output_type": "stream",
     "text": [
      "100%|███████████████████████████████████████| 3943/3943 [01:36<00:00, 41.03it/s]\n"
     ]
    },
    {
     "name": "stdout",
     "output_type": "stream",
     "text": [
      "\n",
      "Epoch: 22, train loss: 3.181248151591872, val loss: 2.977865806818311\n",
      "val Bleu_1 0.6488178674890046\n",
      "val Bleu_2 0.4365201776095543\n",
      "val Bleu_3 0.29224818008750836\n",
      "val Bleu_4 0.19681398368344932\n",
      "val ROUGE_L 0.4885415771834833\n",
      "val CIDEr 0.7003742301768382\n",
      "val CIDErD 0.6049682548437275\n",
      "bleu4 = 0.198\n"
     ]
    },
    {
     "name": "stderr",
     "output_type": "stream",
     "text": [
      "100%|████████████████████████████████████| 35486/35486 [05:50<00:00, 101.16it/s]\n"
     ]
    },
    {
     "name": "stdout",
     "output_type": "stream",
     "text": [
      "lr 23 0.001\n"
     ]
    },
    {
     "name": "stderr",
     "output_type": "stream",
     "text": [
      "100%|███████████████████████████████████████| 3943/3943 [01:32<00:00, 42.41it/s]\n"
     ]
    },
    {
     "name": "stdout",
     "output_type": "stream",
     "text": [
      "\n",
      "Epoch: 23, train loss: 3.2005801281557877, val loss: 2.978042450995425\n",
      "val Bleu_1 0.6657508934866484\n",
      "val Bleu_2 0.4503103387276094\n",
      "val Bleu_3 0.3038680998964824\n",
      "val Bleu_4 0.20757926454604816\n",
      "val ROUGE_L 0.4938474095416973\n",
      "val CIDEr 0.7174978528380264\n",
      "val CIDErD 0.6244295409599031\n",
      "bleu4 = 0.206\n"
     ]
    },
    {
     "name": "stderr",
     "output_type": "stream",
     "text": [
      "100%|████████████████████████████████████| 35486/35486 [05:50<00:00, 101.39it/s]\n"
     ]
    },
    {
     "name": "stdout",
     "output_type": "stream",
     "text": [
      "lr 24 0.001\n"
     ]
    },
    {
     "name": "stderr",
     "output_type": "stream",
     "text": [
      "100%|███████████████████████████████████████| 3943/3943 [01:35<00:00, 41.49it/s]\n"
     ]
    },
    {
     "name": "stdout",
     "output_type": "stream",
     "text": [
      "\n",
      "Epoch: 24, train loss: 3.2939406216483853, val loss: 3.030812242370918\n",
      "val Bleu_1 0.6569451073985524\n",
      "val Bleu_2 0.44133874607419205\n",
      "val Bleu_3 0.29289885572670055\n",
      "val Bleu_4 0.19610768148273808\n",
      "val ROUGE_L 0.48657109466842424\n",
      "val CIDEr 0.689974864516547\n",
      "val CIDErD 0.5999538432492757\n",
      "bleu4 = 0.200\n"
     ]
    },
    {
     "name": "stderr",
     "output_type": "stream",
     "text": [
      "100%|████████████████████████████████████| 35486/35486 [05:49<00:00, 101.41it/s]\n"
     ]
    },
    {
     "name": "stdout",
     "output_type": "stream",
     "text": [
      "lr 25 0.001\n"
     ]
    },
    {
     "name": "stderr",
     "output_type": "stream",
     "text": [
      "100%|███████████████████████████████████████| 3943/3943 [01:37<00:00, 40.60it/s]\n"
     ]
    },
    {
     "name": "stdout",
     "output_type": "stream",
     "text": [
      "\n",
      "Epoch: 25, train loss: 3.300551107099022, val loss: 3.093956595609371\n",
      "val Bleu_1 0.649836567216064\n",
      "val Bleu_2 0.43017367823401526\n",
      "val Bleu_3 0.28489667392869156\n",
      "val Bleu_4 0.19001499755427445\n",
      "val ROUGE_L 0.4867714193869126\n",
      "val CIDEr 0.6865653425074502\n",
      "val CIDErD 0.5940108987669063\n",
      "bleu4 = 0.191\n"
     ]
    },
    {
     "name": "stderr",
     "output_type": "stream",
     "text": [
      "100%|████████████████████████████████████| 35486/35486 [05:49<00:00, 101.45it/s]\n"
     ]
    },
    {
     "name": "stdout",
     "output_type": "stream",
     "text": [
      "lr 26 0.001\n"
     ]
    },
    {
     "name": "stderr",
     "output_type": "stream",
     "text": [
      "100%|███████████████████████████████████████| 3943/3943 [01:39<00:00, 39.66it/s]\n"
     ]
    },
    {
     "name": "stdout",
     "output_type": "stream",
     "text": [
      "\n",
      "Epoch: 26, train loss: 3.310146716187182, val loss: 3.0672060236421723\n",
      "val Bleu_1 0.6374794670560177\n",
      "val Bleu_2 0.42042916464898006\n",
      "val Bleu_3 0.2759133238212141\n",
      "val Bleu_4 0.1828374434739793\n",
      "val ROUGE_L 0.4771628857132442\n",
      "val CIDEr 0.6694458830142771\n",
      "val CIDErD 0.5836958817528523\n",
      "bleu4 = 0.183\n"
     ]
    },
    {
     "name": "stderr",
     "output_type": "stream",
     "text": [
      "100%|████████████████████████████████████| 35486/35486 [05:49<00:00, 101.60it/s]\n"
     ]
    },
    {
     "name": "stdout",
     "output_type": "stream",
     "text": [
      "lr 27 0.001\n"
     ]
    },
    {
     "name": "stderr",
     "output_type": "stream",
     "text": [
      "100%|███████████████████████████████████████| 3943/3943 [01:35<00:00, 41.24it/s]\n"
     ]
    },
    {
     "name": "stdout",
     "output_type": "stream",
     "text": [
      "\n",
      "Epoch: 27, train loss: 3.330187137249337, val loss: 3.1853045520218926\n",
      "val Bleu_1 0.6529964000846886\n",
      "val Bleu_2 0.43927476146258393\n",
      "val Bleu_3 0.29406971499230006\n",
      "val Bleu_4 0.19890496302446264\n",
      "val ROUGE_L 0.4875900849801539\n",
      "val CIDEr 0.6843746263757375\n",
      "val CIDErD 0.5962318772337212\n",
      "bleu4 = 0.200\n"
     ]
    },
    {
     "name": "stderr",
     "output_type": "stream",
     "text": [
      "100%|████████████████████████████████████| 35486/35486 [05:49<00:00, 101.53it/s]\n"
     ]
    },
    {
     "name": "stdout",
     "output_type": "stream",
     "text": [
      "lr 28 0.001\n"
     ]
    },
    {
     "name": "stderr",
     "output_type": "stream",
     "text": [
      "100%|███████████████████████████████████████| 3943/3943 [01:32<00:00, 42.85it/s]\n"
     ]
    },
    {
     "name": "stdout",
     "output_type": "stream",
     "text": [
      "\n",
      "Epoch: 28, train loss: 3.363435868081666, val loss: 3.0973976638424134\n",
      "val Bleu_1 0.663495896892465\n",
      "val Bleu_2 0.44264815254882844\n",
      "val Bleu_3 0.296039758392912\n",
      "val Bleu_4 0.20081297271407275\n",
      "val ROUGE_L 0.48981103341922105\n",
      "val CIDEr 0.697605954202808\n",
      "val CIDErD 0.606118924175949\n",
      "bleu4 = 0.200\n"
     ]
    },
    {
     "name": "stderr",
     "output_type": "stream",
     "text": [
      "100%|████████████████████████████████████| 35486/35486 [05:50<00:00, 101.13it/s]\n"
     ]
    },
    {
     "name": "stdout",
     "output_type": "stream",
     "text": [
      "lr 29 0.001\n"
     ]
    },
    {
     "name": "stderr",
     "output_type": "stream",
     "text": [
      "100%|███████████████████████████████████████| 3943/3943 [01:36<00:00, 40.82it/s]\n"
     ]
    },
    {
     "name": "stdout",
     "output_type": "stream",
     "text": [
      "\n",
      "Epoch: 29, train loss: 3.330390587575889, val loss: 3.09069437908697\n",
      "val Bleu_1 0.655238819809309\n",
      "val Bleu_2 0.4374232351022341\n",
      "val Bleu_3 0.2897754785579717\n",
      "val Bleu_4 0.1938370989451924\n",
      "val ROUGE_L 0.488355944885045\n",
      "val CIDEr 0.6946499910778102\n",
      "val CIDErD 0.6112192468095475\n",
      "bleu4 = 0.194\n"
     ]
    },
    {
     "name": "stderr",
     "output_type": "stream",
     "text": [
      "100%|████████████████████████████████████| 35486/35486 [05:49<00:00, 101.56it/s]\n"
     ]
    },
    {
     "name": "stdout",
     "output_type": "stream",
     "text": [
      "lr 30 0.001\n"
     ]
    },
    {
     "name": "stderr",
     "output_type": "stream",
     "text": [
      "100%|███████████████████████████████████████| 3943/3943 [01:34<00:00, 41.67it/s]\n"
     ]
    },
    {
     "name": "stdout",
     "output_type": "stream",
     "text": [
      "\n",
      "Epoch: 30, train loss: 3.3954809412342555, val loss: 3.11989354219589\n",
      "val Bleu_1 0.6587038054513591\n",
      "val Bleu_2 0.4429217826522125\n",
      "val Bleu_3 0.29944416533360985\n",
      "val Bleu_4 0.20650404583371615\n",
      "val ROUGE_L 0.49331307428539406\n",
      "val CIDEr 0.698811752374026\n",
      "val CIDErD 0.6158861403990877\n",
      "bleu4 = 0.205\n"
     ]
    },
    {
     "name": "stderr",
     "output_type": "stream",
     "text": [
      "100%|████████████████████████████████████| 35486/35486 [05:50<00:00, 101.37it/s]\n"
     ]
    },
    {
     "name": "stdout",
     "output_type": "stream",
     "text": [
      "lr 31 0.001\n"
     ]
    },
    {
     "name": "stderr",
     "output_type": "stream",
     "text": [
      "100%|███████████████████████████████████████| 3943/3943 [01:32<00:00, 42.64it/s]\n"
     ]
    },
    {
     "name": "stdout",
     "output_type": "stream",
     "text": [
      "\n",
      "Epoch: 31, train loss: 3.336195961896458, val loss: 3.120133824663479\n",
      "val Bleu_1 0.6647371906502008\n",
      "val Bleu_2 0.44613326704622763\n",
      "val Bleu_3 0.29905549786069147\n",
      "val Bleu_4 0.20435001947635392\n",
      "val ROUGE_L 0.4858455011517454\n",
      "val CIDEr 0.7205007649191821\n",
      "val CIDErD 0.6166838223178571\n",
      "bleu4 = 0.205\n"
     ]
    },
    {
     "name": "stderr",
     "output_type": "stream",
     "text": [
      "100%|████████████████████████████████████| 35486/35486 [05:49<00:00, 101.54it/s]\n"
     ]
    },
    {
     "name": "stdout",
     "output_type": "stream",
     "text": [
      "lr 32 0.001\n"
     ]
    },
    {
     "name": "stderr",
     "output_type": "stream",
     "text": [
      "100%|███████████████████████████████████████| 3943/3943 [01:34<00:00, 41.93it/s]\n"
     ]
    },
    {
     "name": "stdout",
     "output_type": "stream",
     "text": [
      "\n",
      "Epoch: 32, train loss: 3.3713557545431825, val loss: 3.118704524585628\n",
      "val Bleu_1 0.6506424137433077\n",
      "val Bleu_2 0.43689131127226577\n",
      "val Bleu_3 0.29306842425389\n",
      "val Bleu_4 0.1974666108209882\n",
      "val ROUGE_L 0.48834733053792295\n",
      "val CIDEr 0.7021744163464587\n",
      "val CIDErD 0.6035983345789578\n",
      "bleu4 = 0.200\n"
     ]
    },
    {
     "name": "stderr",
     "output_type": "stream",
     "text": [
      "100%|████████████████████████████████████| 35486/35486 [05:51<00:00, 100.93it/s]\n"
     ]
    },
    {
     "name": "stdout",
     "output_type": "stream",
     "text": [
      "lr 33 0.001\n"
     ]
    },
    {
     "name": "stderr",
     "output_type": "stream",
     "text": [
      "100%|███████████████████████████████████████| 3943/3943 [01:36<00:00, 40.72it/s]\n"
     ]
    },
    {
     "name": "stdout",
     "output_type": "stream",
     "text": [
      "\n",
      "Epoch: 33, train loss: 3.3207707398774784, val loss: 3.100661648897964\n",
      "val Bleu_1 0.6542270671459898\n",
      "val Bleu_2 0.43261511615118137\n",
      "val Bleu_3 0.2837861243671767\n",
      "val Bleu_4 0.18889923722630772\n",
      "val ROUGE_L 0.4858591678824872\n",
      "val CIDEr 0.6735407624470201\n",
      "val CIDErD 0.5915092732023765\n",
      "bleu4 = 0.192\n"
     ]
    },
    {
     "name": "stderr",
     "output_type": "stream",
     "text": [
      "100%|████████████████████████████████████| 35486/35486 [05:51<00:00, 101.03it/s]\n"
     ]
    },
    {
     "name": "stdout",
     "output_type": "stream",
     "text": [
      "lr 34 0.001\n"
     ]
    },
    {
     "name": "stderr",
     "output_type": "stream",
     "text": [
      "100%|███████████████████████████████████████| 3943/3943 [01:34<00:00, 41.64it/s]\n"
     ]
    },
    {
     "name": "stdout",
     "output_type": "stream",
     "text": [
      "\n",
      "Epoch: 34, train loss: 3.3284398708313003, val loss: 3.07096500958158\n",
      "val Bleu_1 0.6520421795972743\n",
      "val Bleu_2 0.43409308584237943\n",
      "val Bleu_3 0.28764493625219645\n",
      "val Bleu_4 0.1928338114395019\n",
      "val ROUGE_L 0.4862969483547249\n",
      "val CIDEr 0.693637479052197\n",
      "val CIDErD 0.6015211564868322\n",
      "bleu4 = 0.194\n"
     ]
    },
    {
     "name": "stderr",
     "output_type": "stream",
     "text": [
      "100%|████████████████████████████████████| 35486/35486 [05:49<00:00, 101.55it/s]\n"
     ]
    },
    {
     "name": "stdout",
     "output_type": "stream",
     "text": [
      "lr 35 0.001\n"
     ]
    },
    {
     "name": "stderr",
     "output_type": "stream",
     "text": [
      "100%|███████████████████████████████████████| 3943/3943 [01:34<00:00, 41.53it/s]\n"
     ]
    },
    {
     "name": "stdout",
     "output_type": "stream",
     "text": [
      "\n",
      "Epoch: 35, train loss: 3.3063090468839738, val loss: 3.0768395223020146\n",
      "val Bleu_1 0.658607673562983\n",
      "val Bleu_2 0.4434165442975753\n",
      "val Bleu_3 0.29413929382227155\n",
      "val Bleu_4 0.19696392558756032\n",
      "val ROUGE_L 0.4909783871447354\n",
      "val CIDEr 0.694530634333353\n",
      "val CIDErD 0.6018935654831372\n",
      "bleu4 = 0.200\n"
     ]
    },
    {
     "name": "stderr",
     "output_type": "stream",
     "text": [
      "100%|████████████████████████████████████| 35486/35486 [05:50<00:00, 101.32it/s]\n"
     ]
    },
    {
     "name": "stdout",
     "output_type": "stream",
     "text": [
      "lr 36 0.001\n"
     ]
    },
    {
     "name": "stderr",
     "output_type": "stream",
     "text": [
      "100%|███████████████████████████████████████| 3943/3943 [01:33<00:00, 42.06it/s]\n"
     ]
    },
    {
     "name": "stdout",
     "output_type": "stream",
     "text": [
      "\n",
      "Epoch: 36, train loss: 3.2767040312982214, val loss: 3.0628858404718255\n",
      "val Bleu_1 0.6591882130641571\n",
      "val Bleu_2 0.4398409479199443\n",
      "val Bleu_3 0.2937799647002679\n",
      "val Bleu_4 0.19820948850693015\n",
      "val ROUGE_L 0.4906311831988235\n",
      "val CIDEr 0.6840147182134881\n",
      "val CIDErD 0.6028054675220282\n",
      "bleu4 = 0.200\n"
     ]
    },
    {
     "name": "stderr",
     "output_type": "stream",
     "text": [
      "100%|████████████████████████████████████| 35486/35486 [05:50<00:00, 101.30it/s]\n"
     ]
    },
    {
     "name": "stdout",
     "output_type": "stream",
     "text": [
      "lr 37 0.001\n"
     ]
    },
    {
     "name": "stderr",
     "output_type": "stream",
     "text": [
      "100%|███████████████████████████████████████| 3943/3943 [01:32<00:00, 42.42it/s]\n"
     ]
    },
    {
     "name": "stdout",
     "output_type": "stream",
     "text": [
      "\n",
      "Epoch: 37, train loss: 3.2600707460140446, val loss: 3.0550859468768703\n",
      "val Bleu_1 0.6700960719931736\n",
      "val Bleu_2 0.44839052093394555\n",
      "val Bleu_3 0.2980058463738728\n",
      "val Bleu_4 0.19947436864454932\n",
      "val ROUGE_L 0.4918176113522395\n",
      "val CIDEr 0.6754419030549815\n",
      "val CIDErD 0.6019543928550063\n",
      "bleu4 = 0.199\n"
     ]
    },
    {
     "name": "stderr",
     "output_type": "stream",
     "text": [
      "100%|████████████████████████████████████| 35486/35486 [05:50<00:00, 101.29it/s]\n"
     ]
    },
    {
     "name": "stdout",
     "output_type": "stream",
     "text": [
      "lr 38 0.001\n"
     ]
    },
    {
     "name": "stderr",
     "output_type": "stream",
     "text": [
      "100%|███████████████████████████████████████| 3943/3943 [01:34<00:00, 41.55it/s]\n"
     ]
    },
    {
     "name": "stdout",
     "output_type": "stream",
     "text": [
      "\n",
      "Epoch: 38, train loss: 3.29078258810422, val loss: 3.0512456409737085\n",
      "val Bleu_1 0.6680127523910576\n",
      "val Bleu_2 0.44382870312160055\n",
      "val Bleu_3 0.291813858846596\n",
      "val Bleu_4 0.19331411462401707\n",
      "val ROUGE_L 0.49346628164202955\n",
      "val CIDEr 0.6924552066507115\n",
      "val CIDErD 0.6126470893089904\n",
      "bleu4 = 0.199\n"
     ]
    },
    {
     "name": "stderr",
     "output_type": "stream",
     "text": [
      "100%|████████████████████████████████████| 35486/35486 [05:53<00:00, 100.52it/s]\n"
     ]
    },
    {
     "name": "stdout",
     "output_type": "stream",
     "text": [
      "lr 39 0.001\n"
     ]
    },
    {
     "name": "stderr",
     "output_type": "stream",
     "text": [
      "100%|███████████████████████████████████████| 3943/3943 [01:35<00:00, 41.38it/s]\n"
     ]
    },
    {
     "name": "stdout",
     "output_type": "stream",
     "text": [
      "\n",
      "Epoch: 39, train loss: 3.261459903040001, val loss: 3.046343469465562\n",
      "val Bleu_1 0.6648908213483524\n",
      "val Bleu_2 0.4447584299961015\n",
      "val Bleu_3 0.297060050638577\n",
      "val Bleu_4 0.20024900970689688\n",
      "val ROUGE_L 0.49393869317049593\n",
      "val CIDEr 0.6934682811439467\n",
      "val CIDErD 0.6177067947702274\n",
      "bleu4 = 0.202\n"
     ]
    },
    {
     "name": "stderr",
     "output_type": "stream",
     "text": [
      "100%|████████████████████████████████████| 35486/35486 [05:50<00:00, 101.30it/s]\n"
     ]
    },
    {
     "name": "stdout",
     "output_type": "stream",
     "text": [
      "lr 40 0.001\n"
     ]
    },
    {
     "name": "stderr",
     "output_type": "stream",
     "text": [
      "100%|███████████████████████████████████████| 3943/3943 [01:34<00:00, 41.75it/s]\n"
     ]
    },
    {
     "name": "stdout",
     "output_type": "stream",
     "text": [
      "\n",
      "Epoch: 40, train loss: 3.258936705388675, val loss: 3.0444908058646365\n",
      "val Bleu_1 0.6615169217399541\n",
      "val Bleu_2 0.4414855632290908\n",
      "val Bleu_3 0.29246980588011257\n",
      "val Bleu_4 0.1946691798752515\n",
      "val ROUGE_L 0.48990279792005087\n",
      "val CIDEr 0.6810327494238644\n",
      "val CIDErD 0.5970851013465934\n",
      "bleu4 = 0.195\n"
     ]
    },
    {
     "name": "stderr",
     "output_type": "stream",
     "text": [
      "100%|████████████████████████████████████| 35486/35486 [05:50<00:00, 101.25it/s]\n"
     ]
    },
    {
     "name": "stdout",
     "output_type": "stream",
     "text": [
      "lr 41 0.001\n"
     ]
    },
    {
     "name": "stderr",
     "output_type": "stream",
     "text": [
      "100%|███████████████████████████████████████| 3943/3943 [01:39<00:00, 39.61it/s]\n"
     ]
    },
    {
     "name": "stdout",
     "output_type": "stream",
     "text": [
      "\n",
      "Epoch: 41, train loss: 3.260014072906297, val loss: 3.041824832381012\n",
      "val Bleu_1 0.6499869997872539\n",
      "val Bleu_2 0.4301910402475496\n",
      "val Bleu_3 0.2832100434351632\n",
      "val Bleu_4 0.19014822208019774\n",
      "val ROUGE_L 0.4869962216151264\n",
      "val CIDEr 0.6578359140304973\n",
      "val CIDErD 0.5793685917617214\n",
      "bleu4 = 0.190\n"
     ]
    },
    {
     "name": "stderr",
     "output_type": "stream",
     "text": [
      "100%|████████████████████████████████████| 35486/35486 [05:43<00:00, 103.18it/s]\n"
     ]
    },
    {
     "name": "stdout",
     "output_type": "stream",
     "text": [
      "lr 42 0.001\n"
     ]
    },
    {
     "name": "stderr",
     "output_type": "stream",
     "text": [
      "100%|███████████████████████████████████████| 3943/3943 [01:34<00:00, 41.73it/s]\n"
     ]
    },
    {
     "name": "stdout",
     "output_type": "stream",
     "text": [
      "\n",
      "Epoch: 42, train loss: 3.2374186915316776, val loss: 3.0344417961212757\n",
      "val Bleu_1 0.6661669769578408\n",
      "val Bleu_2 0.4492152339434671\n",
      "val Bleu_3 0.3028164166009271\n",
      "val Bleu_4 0.20748674433553796\n",
      "val ROUGE_L 0.49657725457327506\n",
      "val CIDEr 0.7157582030406\n",
      "val CIDErD 0.6308343651647508\n",
      "bleu4 = 0.208\n"
     ]
    },
    {
     "name": "stderr",
     "output_type": "stream",
     "text": [
      "100%|████████████████████████████████████| 35486/35486 [05:50<00:00, 101.14it/s]\n"
     ]
    },
    {
     "name": "stdout",
     "output_type": "stream",
     "text": [
      "lr 43 0.001\n"
     ]
    },
    {
     "name": "stderr",
     "output_type": "stream",
     "text": [
      "100%|███████████████████████████████████████| 3943/3943 [01:34<00:00, 41.75it/s]\n"
     ]
    },
    {
     "name": "stdout",
     "output_type": "stream",
     "text": [
      "\n",
      "Epoch: 43, train loss: 3.281844412182657, val loss: 3.2041453681045335\n",
      "val Bleu_1 0.6548955467994783\n",
      "val Bleu_2 0.4331088049856516\n",
      "val Bleu_3 0.2871026961484044\n",
      "val Bleu_4 0.19281645570133818\n",
      "val ROUGE_L 0.485944341131765\n",
      "val CIDEr 0.6462763889408115\n",
      "val CIDErD 0.5704056845342235\n",
      "bleu4 = 0.194\n"
     ]
    },
    {
     "name": "stderr",
     "output_type": "stream",
     "text": [
      "100%|████████████████████████████████████| 35486/35486 [05:51<00:00, 100.94it/s]\n"
     ]
    },
    {
     "name": "stdout",
     "output_type": "stream",
     "text": [
      "lr 44 0.001\n"
     ]
    },
    {
     "name": "stderr",
     "output_type": "stream",
     "text": [
      "100%|███████████████████████████████████████| 3943/3943 [01:37<00:00, 40.59it/s]\n"
     ]
    },
    {
     "name": "stdout",
     "output_type": "stream",
     "text": [
      "\n",
      "Epoch: 44, train loss: 3.3063897634885535, val loss: 3.0839645681029313\n",
      "val Bleu_1 0.6528388364044371\n",
      "val Bleu_2 0.4412898226737795\n",
      "val Bleu_3 0.29610772268808455\n",
      "val Bleu_4 0.1997785343257352\n",
      "val ROUGE_L 0.4869810630173742\n",
      "val CIDEr 0.7114480706030079\n",
      "val CIDErD 0.6176097617767576\n",
      "bleu4 = 0.200\n"
     ]
    },
    {
     "name": "stderr",
     "output_type": "stream",
     "text": [
      "100%|████████████████████████████████████| 35486/35486 [05:50<00:00, 101.31it/s]\n"
     ]
    },
    {
     "name": "stdout",
     "output_type": "stream",
     "text": [
      "lr 45 0.001\n"
     ]
    },
    {
     "name": "stderr",
     "output_type": "stream",
     "text": [
      "100%|███████████████████████████████████████| 3943/3943 [01:37<00:00, 40.36it/s]\n"
     ]
    },
    {
     "name": "stdout",
     "output_type": "stream",
     "text": [
      "\n",
      "Epoch: 45, train loss: 3.295569543366716, val loss: 3.078402837550855\n",
      "val Bleu_1 0.661584940739004\n",
      "val Bleu_2 0.4434476137104548\n",
      "val Bleu_3 0.29655427273081253\n",
      "val Bleu_4 0.19989151184464718\n",
      "val ROUGE_L 0.49597387733626297\n",
      "val CIDEr 0.706416293376739\n",
      "val CIDErD 0.6193164466217319\n",
      "bleu4 = 0.203\n"
     ]
    },
    {
     "name": "stderr",
     "output_type": "stream",
     "text": [
      "100%|████████████████████████████████████| 35486/35486 [05:50<00:00, 101.16it/s]\n"
     ]
    },
    {
     "name": "stdout",
     "output_type": "stream",
     "text": [
      "lr 46 0.001\n"
     ]
    },
    {
     "name": "stderr",
     "output_type": "stream",
     "text": [
      "100%|███████████████████████████████████████| 3943/3943 [01:35<00:00, 41.36it/s]\n"
     ]
    },
    {
     "name": "stdout",
     "output_type": "stream",
     "text": [
      "\n",
      "Epoch: 46, train loss: 3.313379141647531, val loss: 3.0716838694120643\n",
      "val Bleu_1 0.660839665288048\n",
      "val Bleu_2 0.4471727458874509\n",
      "val Bleu_3 0.3027738747196049\n",
      "val Bleu_4 0.2072220105181569\n",
      "val ROUGE_L 0.4968620660175664\n",
      "val CIDEr 0.7038766368418145\n",
      "val CIDErD 0.6271799096904225\n",
      "bleu4 = 0.208\n"
     ]
    },
    {
     "name": "stderr",
     "output_type": "stream",
     "text": [
      "100%|████████████████████████████████████| 35486/35486 [05:50<00:00, 101.19it/s]\n"
     ]
    },
    {
     "name": "stdout",
     "output_type": "stream",
     "text": [
      "lr 47 0.001\n"
     ]
    },
    {
     "name": "stderr",
     "output_type": "stream",
     "text": [
      "100%|███████████████████████████████████████| 3943/3943 [01:33<00:00, 42.00it/s]\n"
     ]
    },
    {
     "name": "stdout",
     "output_type": "stream",
     "text": [
      "\n",
      "Epoch: 47, train loss: 3.337500009427296, val loss: 3.103338471953711\n",
      "val Bleu_1 0.6636666585585206\n",
      "val Bleu_2 0.44597807204722983\n",
      "val Bleu_3 0.29724180194320937\n",
      "val Bleu_4 0.20069745794877872\n",
      "val ROUGE_L 0.4894932470144101\n",
      "val CIDEr 0.7011548008580243\n",
      "val CIDErD 0.6050472744587324\n",
      "bleu4 = 0.200\n"
     ]
    },
    {
     "name": "stderr",
     "output_type": "stream",
     "text": [
      "100%|████████████████████████████████████| 35486/35486 [05:50<00:00, 101.23it/s]\n"
     ]
    },
    {
     "name": "stdout",
     "output_type": "stream",
     "text": [
      "lr 48 0.001\n"
     ]
    },
    {
     "name": "stderr",
     "output_type": "stream",
     "text": [
      "100%|███████████████████████████████████████| 3943/3943 [01:36<00:00, 40.94it/s]\n"
     ]
    },
    {
     "name": "stdout",
     "output_type": "stream",
     "text": [
      "\n",
      "Epoch: 48, train loss: 3.343767295408187, val loss: 3.12263508100604\n",
      "val Bleu_1 0.649577963224202\n",
      "val Bleu_2 0.4317545209021179\n",
      "val Bleu_3 0.2838197871108914\n",
      "val Bleu_4 0.19001140672565925\n",
      "val ROUGE_L 0.4789486463111726\n",
      "val CIDEr 0.6632131481372666\n",
      "val CIDErD 0.5818634380770739\n",
      "bleu4 = 0.192\n"
     ]
    },
    {
     "name": "stderr",
     "output_type": "stream",
     "text": [
      "100%|████████████████████████████████████| 35486/35486 [05:50<00:00, 101.27it/s]\n"
     ]
    },
    {
     "name": "stdout",
     "output_type": "stream",
     "text": [
      "lr 49 0.001\n"
     ]
    },
    {
     "name": "stderr",
     "output_type": "stream",
     "text": [
      "100%|███████████████████████████████████████| 3943/3943 [01:39<00:00, 39.83it/s]\n"
     ]
    },
    {
     "name": "stdout",
     "output_type": "stream",
     "text": [
      "\n",
      "Epoch: 49, train loss: 3.344990749506068, val loss: 3.1077645195186547\n",
      "val Bleu_1 0.6609179480075574\n",
      "val Bleu_2 0.44734428560398054\n",
      "val Bleu_3 0.3006682641153273\n",
      "val Bleu_4 0.20376720314509117\n",
      "val ROUGE_L 0.4970216023807191\n",
      "val CIDEr 0.7190136592392912\n",
      "val CIDErD 0.6315323664100838\n",
      "bleu4 = 0.205\n",
      "Finished!\n"
     ]
    }
   ],
   "source": [
    "metrics_bleu4 = []\n",
    "\n",
    "dict_params = {}\n",
    "\n",
    "dict_params['train_loss'] = []\n",
    "dict_params['val_loss'] = []\n",
    "#dict_params['val_Rouge'] = []\n",
    "\n",
    "scorers = [\n",
    "    (Bleu(4), [\"Bleu_1\", \"Bleu_2\", \"Bleu_3\", \"Bleu_4\"]),\n",
    "    (Rouge(), \"ROUGE_L\"),\n",
    "    (Cider(), \"CIDEr\"),\n",
    "    (CiderD(), \"CIDErD\")\n",
    "#     (Spice(), \"SPICE\")\n",
    "#     (Meteor(), \"METEOR\")\n",
    "]\n",
    "\n",
    "for _, method in scorers:\n",
    "    if isinstance(method, list):\n",
    "        for sub_method in method:\n",
    "            dict_params['val_' + sub_method] = []\n",
    "    else:    \n",
    "        dict_params['val_' + method] = []\n",
    "\n",
    "for epoch in range(n_epochs):\n",
    "\n",
    "    for _, method in scorers:\n",
    "        if isinstance(method, list):\n",
    "            for sub_method in method:\n",
    "                dict_params['epoch_' + sub_method] = 0\n",
    "        else:    \n",
    "            dict_params['epoch_' + method] = 0  \n",
    "    \n",
    "    train_loss=0\n",
    "    \n",
    "    bi = DataLoader(ds_train, batch_size=batch_size, shuffle=True, num_workers=4, collate_fn=collate_fn_dataloader)\n",
    "    #bi = BatchIterator(ds_train_mem, ds_train.labels, batch_size=batch_size, shuffle=True, collate_fn=collate_fn, device=device)\n",
    "    \n",
    "    n_batches_per_epoch = 0\n",
    "    \n",
    "    decoder.train(True)\n",
    "    \n",
    "    for batch in tqdm(bi):\n",
    "        \n",
    "        #print('1')\n",
    "        \n",
    "        optimizer.zero_grad()\n",
    "        \n",
    "        loss_t = compute_loss(decoder, vocab_class, batch['futures'].to(device), batch['sentence'].to(device))\n",
    "        \n",
    "        # clear old gradients; do a backward pass to get new gradients; then train with opt\n",
    "        loss_t.backward()\n",
    "        \n",
    "        optimizer.step()\n",
    "        #lr_scheduler.step()\n",
    "        #scheduler_warmup.step(epoch)\n",
    "        #scheduler.step()\n",
    "        \n",
    "        train_loss += loss_t.item()\n",
    "        \n",
    "        n_batches_per_epoch += 1\n",
    "        \n",
    "    train_loss /= n_batches_per_epoch\n",
    "\n",
    "    print('lr', epoch, optimizer.param_groups[0]['lr'])\n",
    "    \n",
    "    dict_params['train_loss'].append(train_loss)\n",
    "    \n",
    "    bi = DataLoader(ds_valid, batch_size=batch_size, shuffle=False, num_workers=4, collate_fn=collate_fn_dataloader)\n",
    "    #bi = BatchIterator(ds_valid_mem, ds_valid.labels, batch_size=batch_size, shuffle=True, collate_fn=collate_fn, device=device)\n",
    "    \n",
    "    val_loss=0\n",
    "    n_validation_batches = 0\n",
    "    \n",
    "    n_validation_scores = 0\n",
    "    \n",
    "    hypotheses = []\n",
    "    references = []\n",
    "    \n",
    "    res = {}\n",
    "    gts = {}\n",
    "        \n",
    "    decoder.train(False)\n",
    "    decoder.eval()\n",
    "    for batch in tqdm(bi):\n",
    "        \n",
    "        loss_t = compute_loss(decoder, vocab_class, batch['futures'].to(device), batch['sentence'].to(device))\n",
    "        val_loss += loss_t.item()\n",
    "        n_validation_batches += 1\n",
    "        \n",
    "        # =================================================\n",
    "        # Compute scores\n",
    "        # =================================================\n",
    "        \n",
    "        batch_size = batch['futures'].shape[0]\n",
    "        \n",
    "\n",
    "        \n",
    "        \n",
    "        for i in range(batch_size):\n",
    "            sent = batch['futures'][i]\n",
    "            src_cap = generate_caption_vectors_neck(decoder, sent.unsqueeze(0), vocab_class, sample=False)\n",
    "            src_cap = vocab_class.remove_start_tags(src_cap)\n",
    "            \n",
    "            hypotheses.append(src_cap)\n",
    "            \n",
    "            src_cap = ' '.join(src_cap)\n",
    "            \n",
    "            res[n_validation_scores] = [src_cap]\n",
    "            \n",
    "#             dst_cap = batch['sentence'][i]\n",
    "#             dst_cap = vocab_class.vector_to_sequence_tokens(dst_cap) \n",
    "#             dst_cap = vocab_class.remove_start_tags(dst_cap)\n",
    "#             dst_cap = ' '.join(dst_cap)\n",
    "#             gts = {'tokenized sentences': [dst_cap]}\n",
    "            \n",
    "            label = batch['labels'][i]\n",
    "            list_dst_cap = ds_valid.captions[label]\n",
    "            gts[n_validation_scores] = list_dst_cap\n",
    "            \n",
    "            references.append(list(map(lambda c: c.split(), list_dst_cap)))\n",
    "            \n",
    "        n_validation_scores += 1\n",
    "\n",
    "#         for scorer, method in scorers:\n",
    "#             #print 'computing %s score...'%(scorer.method())\n",
    "#             score, scores = scorer.compute_score(gts, res)\n",
    "\n",
    "#             #print('epoch_' + method, score)\n",
    "\n",
    "#             if isinstance(method, list):\n",
    "#                 for i, sub_method in enumerate(method):\n",
    "#                     dict_params['epoch_' + sub_method] += score[i]\n",
    "#             else:\n",
    "#                 dict_params['epoch_' + method] += score\n",
    "\n",
    "    val_loss /= n_validation_batches\n",
    "    \n",
    "    \n",
    "    dict_params['val_loss'].append(val_loss)\n",
    "    \n",
    "    print('\\nEpoch: {}, train loss: {}, val loss: {}'.format(epoch, train_loss, val_loss))\n",
    "\n",
    "    #hypotheses.extend(preds)\n",
    "\n",
    "    \n",
    "#     for _, method in scorers:\n",
    "#         if isinstance(method, list):\n",
    "#             for sub_method in method:\n",
    "#                 dict_params['epoch_'+sub_method] /= n_validation_scores\n",
    "#                 dict_params['val_'+sub_method].append(dict_params['epoch_'+sub_method])\n",
    "\n",
    "#                 print('val '+sub_method, dict_params['epoch_'+sub_method])\n",
    "#         else:\n",
    "#             dict_params['epoch_'+method] /= n_validation_scores\n",
    "#             dict_params['val_'+method].append(dict_params['epoch_'+method])\n",
    "\n",
    "#             print('val '+method, dict_params['epoch_'+method])\n",
    "\n",
    "    assert len(references) == len(hypotheses)\n",
    " \n",
    "    for scorer, method in scorers:\n",
    "        #print 'computing %s score...'%(scorer.method())\n",
    "        score, scores = scorer.compute_score(gts, res)\n",
    "\n",
    "        #print('epoch_' + method, score)\n",
    "\n",
    "        if isinstance(method, list):\n",
    "            for i, sub_method in enumerate(method):\n",
    "                dict_params['epoch_' + sub_method] = score[i]\n",
    "                dict_params['val_'+sub_method].append(dict_params['epoch_'+sub_method])\n",
    "                print('val '+sub_method, dict_params['epoch_'+sub_method])\n",
    "        else:\n",
    "            dict_params['epoch_' + method] = score\n",
    "            dict_params['val_'+method].append(dict_params['epoch_'+method])\n",
    "            print('val '+method, dict_params['epoch_'+method])\n",
    "\n",
    "    #print('references',references[0])\n",
    "    #print('hypotheses',hypotheses[0])\n",
    "    bleu4 = corpus_bleu(references, hypotheses)\n",
    "    \n",
    "    metrics_bleu4.append(bleu4)\n",
    "\n",
    "    print(f'bleu4 = {bleu4:.3f}')            \n",
    "            \n",
    "print(\"Finished!\")"
   ]
  },
  {
   "cell_type": "code",
   "execution_count": 64,
   "metadata": {},
   "outputs": [
    {
     "data": {
      "text/plain": [
       "3943"
      ]
     },
     "execution_count": 64,
     "metadata": {},
     "output_type": "execute_result"
    }
   ],
   "source": [
    "n_validation_scores"
   ]
  },
  {
   "cell_type": "code",
   "execution_count": 65,
   "metadata": {},
   "outputs": [
    {
     "data": {
      "text/plain": [
       "Text(0.5, 1.0, 'loss')"
      ]
     },
     "execution_count": 65,
     "metadata": {},
     "output_type": "execute_result"
    },
    {
     "data": {
      "image/png": "[encoded data removed]",
      "text/plain": [
       "<Figure size 432x288 with 1 Axes>"
      ]
     },
     "metadata": {
      "needs_background": "light"
     },
     "output_type": "display_data"
    }
   ],
   "source": [
    "plt.grid(True)\n",
    "plt.plot(dict_params['train_loss'][2:], label='train', color = 'blue')\n",
    "plt.plot(dict_params['val_loss'][2:], label='val', color = 'red')\n",
    "plt.legend()\n",
    "plt.title('loss')"
   ]
  },
  {
   "cell_type": "code",
   "execution_count": 66,
   "metadata": {},
   "outputs": [
    {
     "data": {
      "text/plain": [
       "Text(0.5, 1.0, 'bleu4')"
      ]
     },
     "execution_count": 66,
     "metadata": {},
     "output_type": "execute_result"
    },
    {
     "data": {
      "image/png": "[encoded data removed]",
      "text/plain": [
       "<Figure size 432x288 with 1 Axes>"
      ]
     },
     "metadata": {
      "needs_background": "light"
     },
     "output_type": "display_data"
    }
   ],
   "source": [
    "plt.grid(True)\n",
    "plt.plot(metrics_bleu4, label='bleu4', color = 'blue')\n",
    "plt.legend()\n",
    "plt.title('bleu4')"
   ]
  },
  {
   "cell_type": "code",
   "execution_count": 67,
   "metadata": {},
   "outputs": [
    {
     "data": {
      "image/png": "[encoded data removed]",
      "text/plain": [
       "<Figure size 1152x864 with 7 Axes>"
      ]
     },
     "metadata": {
      "needs_background": "light"
     },
     "output_type": "display_data"
    }
   ],
   "source": [
    "plt.figure(figsize=(16,12))\n",
    "i = 1\n",
    "for _, method in scorers:\n",
    "    if isinstance(method, list):\n",
    "        for sub_method in method:\n",
    "            plt.subplot(4,2,i)\n",
    "            plt.plot(dict_params['val_'+sub_method], label=sub_method)\n",
    "            plt.title(sub_method)\n",
    "            i += 1\n",
    "    else:\n",
    "        plt.subplot(4,2,i)\n",
    "        plt.plot(dict_params['val_'+method], label=method)\n",
    "        plt.title(method)\n",
    "        i += 1"
   ]
  },
  {
   "cell_type": "code",
   "execution_count": 68,
   "metadata": {},
   "outputs": [],
   "source": [
    "#torch.save(decoder.state_dict(), 'tmp/model_nlp_0_epoch.pt')"
   ]
  },
  {
   "cell_type": "code",
   "execution_count": 84,
   "metadata": {},
   "outputs": [],
   "source": [
    "#torch.save(decoder.state_dict(), 'tmp/model_nlp_simple_50_epoch.pt')"
   ]
  },
  {
   "cell_type": "code",
   "execution_count": 70,
   "metadata": {},
   "outputs": [
    {
     "data": {
      "text/plain": [
       "{'sentence': tensor([[   1,    4,   52,   82,  454,   37,    4,   62, 1598,    5,    2,    0,\n",
       "             0,    0,    0,    0,    0,    0,    0,    0],\n",
       "         [   1,    4,  508, 1704,   12,    8, 1095, 4169,    9,    4,  519,  153,\n",
       "            10,    4,  195,  301,   94,    4,  249, 3409],\n",
       "         [   1,   17, 1085,   11,   17,   84,   20,   41,  136,   73,   28,  240,\n",
       "           257,    9,  107,  368,    5,    2,    0,    0]]),\n",
       " 'futures': tensor([[0.4333, 0.3241, 0.3019,  ..., 0.5835, 0.6331, 0.2242],\n",
       "         [0.9230, 0.0496, 0.2170,  ..., 0.1337, 0.8111, 0.3017],\n",
       "         [0.8989, 1.6407, 0.5782,  ..., 0.1337, 1.2293, 0.4807]]),\n",
       " 'labels': tensor([11826, 11827, 11828])}"
      ]
     },
     "execution_count": 70,
     "metadata": {},
     "output_type": "execute_result"
    }
   ],
   "source": [
    "batch"
   ]
  },
  {
   "cell_type": "markdown",
   "metadata": {
    "id": "PFS9lSYntmPA"
   },
   "source": [
    "## Inseption и получение результатов\n"
   ]
  },
  {
   "cell_type": "code",
   "execution_count": null,
   "metadata": {},
   "outputs": [],
   "source": []
  },
  {
   "cell_type": "code",
   "execution_count": 71,
   "metadata": {
    "id": "T3BZ7nEstmPB"
   },
   "outputs": [
    {
     "name": "stderr",
     "output_type": "stream",
     "text": [
      "/home/joefox/.pyvenv/diplom-nlp/lib/python3.7/site-packages/torchvision/models/inception.py:83: FutureWarning: The default weight initialization of inception_v3 will be changed in future releases of torchvision. If you wish to keep the old behavior (which leads to long initialization times due to scipy/scipy#11299), please set init_weights=True.\n",
      "  ' due to scipy/scipy#11299), please set init_weights=True.', FutureWarning)\n"
     ]
    }
   ],
   "source": [
    "# загружаем inseption, чтобы можно было прогонять через него новые картинки, \n",
    "# получать их эмбеддинги и генерировать описания с помощью нашей сети\n",
    "from beheaded_inception3 import beheaded_inception_v3\n",
    "inception = beheaded_inception_v3().train(False)"
   ]
  },
  {
   "cell_type": "markdown",
   "metadata": {
    "id": "knCv0zLctmPC"
   },
   "source": [
    "### Сгенерируем описание"
   ]
  },
  {
   "cell_type": "code",
   "execution_count": null,
   "metadata": {},
   "outputs": [],
   "source": []
  },
  {
   "cell_type": "code",
   "execution_count": 72,
   "metadata": {},
   "outputs": [
    {
     "data": {
      "text/plain": [
       "['vocab', 'dict_word_to_index', 'list_words', 'pad_ix', 'unk_ix']"
      ]
     },
     "execution_count": 72,
     "metadata": {},
     "output_type": "execute_result"
    }
   ],
   "source": [
    "list(vocab_class.__dict__)"
   ]
  },
  {
   "cell_type": "code",
   "execution_count": 73,
   "metadata": {},
   "outputs": [
    {
     "data": {
      "text/plain": [
       "{'sentence': tensor([[   1,    4,   52,   82,  454,   37,    4,   62, 1598,    5,    2,    0,\n",
       "             0,    0,    0,    0,    0,    0,    0,    0],\n",
       "         [   1,    4,  508, 1704,   12,    8, 1095, 4169,    9,    4,  519,  153,\n",
       "            10,    4,  195,  301,   94,    4,  249, 3409],\n",
       "         [   1,   17, 1085,   11,   17,   84,   20,   41,  136,   73,   28,  240,\n",
       "           257,    9,  107,  368,    5,    2,    0,    0]]),\n",
       " 'futures': tensor([[0.4333, 0.3241, 0.3019,  ..., 0.5835, 0.6331, 0.2242],\n",
       "         [0.9230, 0.0496, 0.2170,  ..., 0.1337, 0.8111, 0.3017],\n",
       "         [0.8989, 1.6407, 0.5782,  ..., 0.1337, 1.2293, 0.4807]]),\n",
       " 'labels': tensor([11826, 11827, 11828])}"
      ]
     },
     "execution_count": 73,
     "metadata": {},
     "output_type": "execute_result"
    }
   ],
   "source": [
    "batch"
   ]
  },
  {
   "cell_type": "code",
   "execution_count": 74,
   "metadata": {},
   "outputs": [
    {
     "data": {
      "text/plain": [
       "tensor([[0.4333, 0.3241, 0.3019,  ..., 0.5835, 0.6331, 0.2242]])"
      ]
     },
     "execution_count": 74,
     "metadata": {},
     "output_type": "execute_result"
    }
   ],
   "source": [
    "batch['futures'][0].unsqueeze(0)"
   ]
  },
  {
   "cell_type": "code",
   "execution_count": 75,
   "metadata": {},
   "outputs": [
    {
     "data": {
      "text/plain": [
       "['<sos>',\n",
       " 'the',\n",
       " 'back',\n",
       " 'view',\n",
       " 'of',\n",
       " 'the',\n",
       " 'person',\n",
       " 'holding',\n",
       " 'a',\n",
       " 'basketball',\n",
       " '.',\n",
       " '<eos>']"
      ]
     },
     "execution_count": 75,
     "metadata": {},
     "output_type": "execute_result"
    }
   ],
   "source": [
    "generate_caption_vectors_neck(decoder, batch['futures'][0].unsqueeze(0), vocab_class)"
   ]
  },
  {
   "cell_type": "code",
   "execution_count": 76,
   "metadata": {},
   "outputs": [],
   "source": [
    "#generate_caption_vectors_neck(decoder, batch['futures'], vocab_class)"
   ]
  },
  {
   "cell_type": "code",
   "execution_count": 77,
   "metadata": {
    "id": "ExrG8fn3tmPC"
   },
   "outputs": [],
   "source": [
    "def generate_caption(image, decoder, vocab_class, \n",
    "                     t, sample=True, max_len=100):\n",
    "    \n",
    "    assert isinstance(image, np.ndarray) and np.max(image) <= 1\\\n",
    "           and np.min(image) >=0 and image.shape[-1] == 3\n",
    "    \n",
    "    caption_prefix = []\n",
    "    \n",
    "    with torch.no_grad():\n",
    "        image = torch.tensor(image.transpose([2, 0, 1]), dtype=torch.float32)\n",
    "\n",
    "        vectors_8x8, vectors_neck, logits = inception(image[None])\n",
    "        \n",
    "        caption_prefix = generate_caption_vectors_neck(decoder, vectors_neck, vocab_class, t, sample, max_len)\n",
    "        \n",
    "            \n",
    "    return caption_prefix"
   ]
  },
  {
   "cell_type": "markdown",
   "metadata": {
    "id": "U09ROGRbtmPD"
   },
   "source": [
    "### Скачаем пару картинок, чтобы проверить качество:"
   ]
  },
  {
   "cell_type": "code",
   "execution_count": 78,
   "metadata": {
    "id": "UHF3uRtotmPD",
    "outputId": "86cae1bb-6395-4b35-d434-0dd7a8695aa0"
   },
   "outputs": [
    {
     "name": "stdout",
     "output_type": "stream",
     "text": [
      "--2022-02-02 21:51:17--  https://pixel.nymag.com/imgs/daily/selectall/2018/02/12/12-tony-hawk.w710.h473.jpg\n",
      "Распознаётся pixel.nymag.com (pixel.nymag.com)… 151.101.112.70\n",
      "Подключение к pixel.nymag.com (pixel.nymag.com)|151.101.112.70|:443... соединение установлено.\n",
      "HTTP-запрос отправлен. Ожидание ответа… 301 Moved Permanently\n",
      "Адрес: https://pyxis.nymag.com/v1/imgs/6ac/2a6/b48d3a180f333298f5bee60ff80f4ba886-12-tony-hawk.h473.w710.jpg [переход]\n",
      "--2022-02-02 21:51:22--  https://pyxis.nymag.com/v1/imgs/6ac/2a6/b48d3a180f333298f5bee60ff80f4ba886-12-tony-hawk.h473.w710.jpg\n",
      "Распознаётся pyxis.nymag.com (pyxis.nymag.com)… 151.101.114.217\n",
      "Подключение к pyxis.nymag.com (pyxis.nymag.com)|151.101.114.217|:443... соединение установлено.\n",
      "HTTP-запрос отправлен. Ожидание ответа… 200 OK\n",
      "Длина: 54731 (53K) [image/jpeg]\n",
      "Сохранение в: «img.jpg»\n",
      "\n",
      "img.jpg             100%[===================>]  53,45K  --.-KB/s    за 0,05s   \n",
      "\n",
      "2022-02-02 21:51:26 (1,14 MB/s) - «img.jpg» сохранён [54731/54731]\n",
      "\n"
     ]
    },
    {
     "name": "stderr",
     "output_type": "stream",
     "text": [
      "/home/joefox/.pyvenv/diplom-nlp/lib/python3.7/site-packages/ipykernel_launcher.py:8: DeprecationWarning:     `imresize` is deprecated!\n",
      "    `imresize` is deprecated in SciPy 1.0.0, and will be removed in 1.2.0.\n",
      "    Use ``skimage.transform.resize`` instead.\n",
      "  \n"
     ]
    }
   ],
   "source": [
    "from matplotlib import pyplot as plt\n",
    "from scipy.misc import imresize\n",
    "%matplotlib inline\n",
    "\n",
    "#sample image\n",
    "!wget https://pixel.nymag.com/imgs/daily/selectall/2018/02/12/12-tony-hawk.w710.h473.jpg -O img.jpg\n",
    "img = plt.imread('img.jpg')\n",
    "img = imresize(img, (299, 299)).astype('float32') / 255."
   ]
  },
  {
   "cell_type": "code",
   "execution_count": 79,
   "metadata": {
    "id": "Ok9JVbZatmPG",
    "outputId": "2ad20751-9b69-4cef-9fd7-4eacdb295124"
   },
   "outputs": [
    {
     "data": {
      "text/plain": [
       "<matplotlib.image.AxesImage at 0x7f5745d7f2e8>"
      ]
     },
     "execution_count": 79,
     "metadata": {},
     "output_type": "execute_result"
    },
    {
     "data": {
      "image/png": "[encoded data removed]",
      "text/plain": [
       "<Figure size 432x288 with 1 Axes>"
      ]
     },
     "metadata": {
      "needs_background": "light"
     },
     "output_type": "display_data"
    }
   ],
   "source": [
    "plt.imshow(img)"
   ]
  },
  {
   "cell_type": "code",
   "execution_count": 80,
   "metadata": {
    "id": "RZlGtMjVtmPI",
    "outputId": "fa074870-a21a-4764-dad4-508b12c56624"
   },
   "outputs": [
    {
     "name": "stdout",
     "output_type": "stream",
     "text": [
      "a man riding a skateboard on top of a ramp .\n",
      "a man on a skateboard doing a trick on a ramp .\n",
      "a man on a skateboard doing a trick .\n",
      "a man is doing a trick on a skateboard .\n",
      "a man riding a skateboard on a ramp .\n",
      "a man riding a skateboard on a ramp .\n",
      "a man riding a skateboard on top of a ramp .\n",
      "a man riding a skateboard on top of a ramp .\n",
      "a man riding a skateboard on top of a ramp .\n",
      "a man riding a skateboard in the air .\n"
     ]
    }
   ],
   "source": [
    "for i in range(10):\n",
    "    print(' '.join(generate_caption(img, decoder, vocab_class, t=5., sample=True)[1:-1]))"
   ]
  },
  {
   "cell_type": "code",
   "execution_count": 81,
   "metadata": {
    "id": "Hu3SPI60tmPM",
    "outputId": "201137e0-d8cc-46f4-8b45-d14625d6c366"
   },
   "outputs": [
    {
     "name": "stdout",
     "output_type": "stream",
     "text": [
      "--2022-02-02 21:51:27--  http://ccanimalclinic.com/wp-content/uploads/2017/07/Cat-and-dog-1.jpg\n",
      "Распознаётся ccanimalclinic.com (ccanimalclinic.com)… 162.159.135.42\n",
      "Подключение к ccanimalclinic.com (ccanimalclinic.com)|162.159.135.42|:80... соединение установлено.\n",
      "HTTP-запрос отправлен. Ожидание ответа… 301 Moved Permanently\n",
      "Адрес: https://ccanimalclinic.com/wp-content/uploads/2017/07/Cat-and-dog-1.jpg [переход]\n",
      "--2022-02-02 21:51:34--  https://ccanimalclinic.com/wp-content/uploads/2017/07/Cat-and-dog-1.jpg\n",
      "Подключение к ccanimalclinic.com (ccanimalclinic.com)|162.159.135.42|:443... соединение установлено.\n",
      "HTTP-запрос отправлен. Ожидание ответа… 200 OK\n",
      "Длина: 106870 (104K) [image/jpeg]\n",
      "Сохранение в: «img.jpg»\n",
      "\n",
      "img.jpg             100%[===================>] 104,37K  --.-KB/s    за 0,01s   \n",
      "\n",
      "2022-02-02 21:51:34 (9,07 MB/s) - «img.jpg» сохранён [106870/106870]\n",
      "\n"
     ]
    },
    {
     "name": "stderr",
     "output_type": "stream",
     "text": [
      "/home/joefox/.pyvenv/diplom-nlp/lib/python3.7/site-packages/ipykernel_launcher.py:3: DeprecationWarning:     `imresize` is deprecated!\n",
      "    `imresize` is deprecated in SciPy 1.0.0, and will be removed in 1.2.0.\n",
      "    Use ``skimage.transform.resize`` instead.\n",
      "  This is separate from the ipykernel package so we can avoid doing imports until\n"
     ]
    },
    {
     "data": {
      "image/png": "[encoded data removed]",
      "text/plain": [
       "<Figure size 432x288 with 1 Axes>"
      ]
     },
     "metadata": {
      "needs_background": "light"
     },
     "output_type": "display_data"
    },
    {
     "name": "stdout",
     "output_type": "stream",
     "text": [
      "a black and white cat laying on top of a bag .\n",
      "a black and white cat laying on a bed\n",
      "a black and white cat laying on a bed .\n",
      "a black and white cat laying on top of a bed .\n",
      "a black and white cat laying on top of a bag .\n",
      "a black and white cat laying on top of a bag .\n",
      "a black and white cat laying on top of a bag .\n",
      "a black and white cat laying on a bed .\n",
      "a black and white cat laying on a bed .\n",
      "a black and white cat laying on a bed .\n"
     ]
    }
   ],
   "source": [
    "!wget http://ccanimalclinic.com/wp-content/uploads/2017/07/Cat-and-dog-1.jpg -O img.jpg\n",
    "img = plt.imread('img.jpg')\n",
    "img = imresize(img, (299, 299)).astype('float32') / 255.\n",
    "\n",
    "plt.imshow(img)\n",
    "plt.show()\n",
    "\n",
    "for i in range(10):\n",
    "    print(' '.join(generate_caption(img, decoder, vocab_class, t=5.)[1:-1]))"
   ]
  },
  {
   "cell_type": "markdown",
   "metadata": {
    "id": "YboPVL7jtmPN"
   },
   "source": [
    "# Demo\n",
    "\n",
    "ВОТ ЩАС БУИТ СМИШНО\n",
    "\n",
    "Теперь ищите свои картинки, применяйте к ним сетку, смотрите че получится, реализовывайте вариативную часть =)"
   ]
  },
  {
   "cell_type": "code",
   "execution_count": 82,
   "metadata": {
    "id": "Q7xK72Y0tmPO"
   },
   "outputs": [],
   "source": [
    "# apply your network on images you've found\n",
    "#\n",
    "#"
   ]
  },
  {
   "cell_type": "markdown",
   "metadata": {
    "id": "xBzfq5GnjOCG"
   },
   "source": [
    "## Бонус: Achtung"
   ]
  },
  {
   "cell_type": "markdown",
   "metadata": {
    "id": "n0MwQJowjUu-"
   },
   "source": [
    "В качестве бонусного задания предлагается реализовать механизм attention в rnn-сети, которую мы писали в базовой части."
   ]
  },
  {
   "cell_type": "code",
   "execution_count": null,
   "metadata": {
    "id": "S9ztssXwja2d"
   },
   "outputs": [],
   "source": []
  }
 ],
 "metadata": {
  "colab": {
   "collapsed_sections": [
    "leHdzi4ntmOz",
    "U09ROGRbtmPD",
    "xBzfq5GnjOCG"
   ],
   "name": "image_captionong.ipynb",
   "provenance": []
  },
  "kernelspec": {
   "display_name": "Python 3 (ipykernel)",
   "language": "python",
   "name": "python3"
  },
  "language_info": {
   "codemirror_mode": {
    "name": "ipython",
    "version": 3
   },
   "file_extension": ".py",
   "mimetype": "text/x-python",
   "name": "python",
   "nbconvert_exporter": "python",
   "pygments_lexer": "ipython3",
   "version": "3.7.3"
  }
 },
 "nbformat": 4,
 "nbformat_minor": 1
}
